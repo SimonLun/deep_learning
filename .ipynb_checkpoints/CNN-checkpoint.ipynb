{
 "cells": [
  {
   "cell_type": "code",
   "execution_count": 1,
   "id": "eeaef374",
   "metadata": {},
   "outputs": [],
   "source": [
    "import numpy as np\n",
    "import pandas as pd\n",
    "import tensorflow as tf\n",
    "from sklearn.model_selection import train_test_split\n",
    "from tensorflow.keras.models import Sequential\n",
    "from tensorflow.keras.layers import Dense, Dropout, Flatten, Conv2D, MaxPooling2D\n",
    "from tensorflow.keras.optimizers import Adam\n",
    "import tensorflow.keras.optimizers as optimizers\n",
    "from sklearn.preprocessing import OneHotEncoder\n",
    "from deep_learning_models.get_dataset import get_feature_from_npy\n",
    "from construct_factor_database.wind_db_result import WindSqlEngine\n",
    "import matplotlib.pyplot as plt\n",
    "from tensorflow.keras.callbacks import EarlyStopping\n",
    "from tensorflow.keras import regularizers\n",
    "from sklearn.metrics import confusion_matrix, precision_score, recall_score, f1_score,roc_curve, auc,classification_report\n",
    "from scipy import stats\n",
    "from keras.utils import plot_model\n",
    "import seaborn as sns\n",
    "from tqdm import tqdm\n",
    "plt.rcParams['font.sans-serif'] = ['SimHei']"
   ]
  },
  {
   "cell_type": "code",
   "execution_count": null,
   "id": "39a4248b",
   "metadata": {},
   "outputs": [],
   "source": []
  },
  {
   "cell_type": "code",
   "execution_count": 3,
   "id": "9899a445",
   "metadata": {},
   "outputs": [
    {
     "name": "stderr",
     "output_type": "stream",
     "text": [
      "100%|█████████████████████████████████████████████████████████████████████████████████████████████████████████████████████████████████████████████████| 2430/2430 [03:15<00:00, 12.42it/s]\n"
     ]
    }
   ],
   "source": [
    "# 获取数据集\n",
    "data_all = get_feature_from_npy()"
   ]
  },
  {
   "cell_type": "code",
   "execution_count": 4,
   "id": "57dae8cd",
   "metadata": {},
   "outputs": [
    {
     "data": {
      "text/plain": [
       "(7870932, 25)"
      ]
     },
     "execution_count": 4,
     "metadata": {},
     "output_type": "execute_result"
    }
   ],
   "source": [
    "#十年因子数据\n",
    "data_all.shape"
   ]
  },
  {
   "cell_type": "code",
   "execution_count": 5,
   "id": "e2114f0c",
   "metadata": {},
   "outputs": [
    {
     "data": {
      "text/plain": [
       "(2152832, 25)"
      ]
     },
     "execution_count": 5,
     "metadata": {},
     "output_type": "execute_result"
    }
   ],
   "source": [
    "#2013-2022有效数据(有label的数据)\n",
    "data_to_model = data_all.dropna()\n",
    "data_to_model.shape"
   ]
  },
  {
   "cell_type": "code",
   "execution_count": 6,
   "id": "f4a65d45",
   "metadata": {},
   "outputs": [
    {
     "name": "stdout",
     "output_type": "stream",
     "text": [
      "(1191764, 25)\n",
      "(821267, 25)\n",
      "(139801, 25)\n"
     ]
    }
   ],
   "source": [
    "train_all=data_to_model[data_to_model['Date']<='2019-06-01']\n",
    "test_all=data_to_model[data_to_model['Date']>='2020-01-01']\n",
    "val_all=data_to_model[(data_to_model['Date']>'2019-06-01') & (data_to_model['Date']<='2020-01-01')]\n",
    "print(train_all.shape)\n",
    "print(test_all.shape)\n",
    "print(val_all.shape)"
   ]
  },
  {
   "cell_type": "code",
   "execution_count": 7,
   "id": "6a3f8229",
   "metadata": {},
   "outputs": [
    {
     "data": {
      "text/html": [
       "<div>\n",
       "<style scoped>\n",
       "    .dataframe tbody tr th:only-of-type {\n",
       "        vertical-align: middle;\n",
       "    }\n",
       "\n",
       "    .dataframe tbody tr th {\n",
       "        vertical-align: top;\n",
       "    }\n",
       "\n",
       "    .dataframe thead th {\n",
       "        text-align: right;\n",
       "    }\n",
       "</style>\n",
       "<table border=\"1\" class=\"dataframe\">\n",
       "  <thead>\n",
       "    <tr style=\"text-align: right;\">\n",
       "      <th></th>\n",
       "      <th>Date</th>\n",
       "      <th>Ticker</th>\n",
       "      <th>0</th>\n",
       "      <th>0</th>\n",
       "      <th>0</th>\n",
       "      <th>0</th>\n",
       "      <th>0</th>\n",
       "      <th>0</th>\n",
       "      <th>0</th>\n",
       "      <th>0</th>\n",
       "      <th>...</th>\n",
       "      <th>0</th>\n",
       "      <th>0</th>\n",
       "      <th>0</th>\n",
       "      <th>0</th>\n",
       "      <th>0</th>\n",
       "      <th>0</th>\n",
       "      <th>0</th>\n",
       "      <th>close</th>\n",
       "      <th>return_5</th>\n",
       "      <th>label</th>\n",
       "    </tr>\n",
       "  </thead>\n",
       "  <tbody>\n",
       "    <tr>\n",
       "      <th>1</th>\n",
       "      <td>2013-01-04</td>\n",
       "      <td>000002.SZ</td>\n",
       "      <td>-0.965830</td>\n",
       "      <td>1.182998</td>\n",
       "      <td>0.947636</td>\n",
       "      <td>-0.002845</td>\n",
       "      <td>-0.665383</td>\n",
       "      <td>0.483191</td>\n",
       "      <td>0.220036</td>\n",
       "      <td>-0.515417</td>\n",
       "      <td>...</td>\n",
       "      <td>1.548047</td>\n",
       "      <td>0.318787</td>\n",
       "      <td>-0.101410</td>\n",
       "      <td>1.797035</td>\n",
       "      <td>-0.054150</td>\n",
       "      <td>-1.444809</td>\n",
       "      <td>-1.522456</td>\n",
       "      <td>1163.93</td>\n",
       "      <td>0.000</td>\n",
       "      <td>0.0</td>\n",
       "    </tr>\n",
       "    <tr>\n",
       "      <th>5</th>\n",
       "      <td>2013-01-04</td>\n",
       "      <td>000007.SZ</td>\n",
       "      <td>-1.512829</td>\n",
       "      <td>-1.164745</td>\n",
       "      <td>-2.465406</td>\n",
       "      <td>-0.773473</td>\n",
       "      <td>0.618476</td>\n",
       "      <td>-0.519624</td>\n",
       "      <td>-0.646017</td>\n",
       "      <td>-1.759949</td>\n",
       "      <td>...</td>\n",
       "      <td>-0.793496</td>\n",
       "      <td>0.693322</td>\n",
       "      <td>-1.355540</td>\n",
       "      <td>-0.539131</td>\n",
       "      <td>0.703258</td>\n",
       "      <td>0.677078</td>\n",
       "      <td>0.658477</td>\n",
       "      <td>78.84</td>\n",
       "      <td>0.132</td>\n",
       "      <td>1.0</td>\n",
       "    </tr>\n",
       "    <tr>\n",
       "      <th>7</th>\n",
       "      <td>2013-01-04</td>\n",
       "      <td>000011.SZ</td>\n",
       "      <td>-1.229412</td>\n",
       "      <td>-0.227101</td>\n",
       "      <td>-0.887079</td>\n",
       "      <td>1.254941</td>\n",
       "      <td>2.627087</td>\n",
       "      <td>0.576840</td>\n",
       "      <td>1.401817</td>\n",
       "      <td>-0.265266</td>\n",
       "      <td>...</td>\n",
       "      <td>-0.466465</td>\n",
       "      <td>-0.977753</td>\n",
       "      <td>-1.797352</td>\n",
       "      <td>1.464594</td>\n",
       "      <td>-2.017166</td>\n",
       "      <td>-1.630227</td>\n",
       "      <td>-0.968915</td>\n",
       "      <td>22.74</td>\n",
       "      <td>-0.051</td>\n",
       "      <td>-1.0</td>\n",
       "    </tr>\n",
       "    <tr>\n",
       "      <th>11</th>\n",
       "      <td>2013-01-04</td>\n",
       "      <td>000019.SZ</td>\n",
       "      <td>-0.764515</td>\n",
       "      <td>0.634445</td>\n",
       "      <td>0.430020</td>\n",
       "      <td>-0.088722</td>\n",
       "      <td>-0.565307</td>\n",
       "      <td>-0.105636</td>\n",
       "      <td>0.801835</td>\n",
       "      <td>0.028535</td>\n",
       "      <td>...</td>\n",
       "      <td>1.690449</td>\n",
       "      <td>-2.080887</td>\n",
       "      <td>-0.244009</td>\n",
       "      <td>2.730191</td>\n",
       "      <td>0.280410</td>\n",
       "      <td>-1.799952</td>\n",
       "      <td>-1.866064</td>\n",
       "      <td>16.69</td>\n",
       "      <td>0.000</td>\n",
       "      <td>0.0</td>\n",
       "    </tr>\n",
       "    <tr>\n",
       "      <th>15</th>\n",
       "      <td>2013-01-04</td>\n",
       "      <td>000024.SZ</td>\n",
       "      <td>-1.054044</td>\n",
       "      <td>0.408584</td>\n",
       "      <td>0.286493</td>\n",
       "      <td>1.106070</td>\n",
       "      <td>0.888920</td>\n",
       "      <td>0.236456</td>\n",
       "      <td>1.100890</td>\n",
       "      <td>0.937637</td>\n",
       "      <td>...</td>\n",
       "      <td>-0.317789</td>\n",
       "      <td>-0.462621</td>\n",
       "      <td>-1.426388</td>\n",
       "      <td>0.179909</td>\n",
       "      <td>-0.067518</td>\n",
       "      <td>-0.003551</td>\n",
       "      <td>-0.810374</td>\n",
       "      <td>159.67</td>\n",
       "      <td>-0.079</td>\n",
       "      <td>-1.0</td>\n",
       "    </tr>\n",
       "  </tbody>\n",
       "</table>\n",
       "<p>5 rows × 25 columns</p>\n",
       "</div>"
      ],
      "text/plain": [
       "         Date     Ticker         0         0         0         0         0  \\\n",
       "1  2013-01-04  000002.SZ -0.965830  1.182998  0.947636 -0.002845 -0.665383   \n",
       "5  2013-01-04  000007.SZ -1.512829 -1.164745 -2.465406 -0.773473  0.618476   \n",
       "7  2013-01-04  000011.SZ -1.229412 -0.227101 -0.887079  1.254941  2.627087   \n",
       "11 2013-01-04  000019.SZ -0.764515  0.634445  0.430020 -0.088722 -0.565307   \n",
       "15 2013-01-04  000024.SZ -1.054044  0.408584  0.286493  1.106070  0.888920   \n",
       "\n",
       "           0         0         0  ...         0         0         0         0  \\\n",
       "1   0.483191  0.220036 -0.515417  ...  1.548047  0.318787 -0.101410  1.797035   \n",
       "5  -0.519624 -0.646017 -1.759949  ... -0.793496  0.693322 -1.355540 -0.539131   \n",
       "7   0.576840  1.401817 -0.265266  ... -0.466465 -0.977753 -1.797352  1.464594   \n",
       "11 -0.105636  0.801835  0.028535  ...  1.690449 -2.080887 -0.244009  2.730191   \n",
       "15  0.236456  1.100890  0.937637  ... -0.317789 -0.462621 -1.426388  0.179909   \n",
       "\n",
       "           0         0         0    close  return_5  label  \n",
       "1  -0.054150 -1.444809 -1.522456  1163.93     0.000    0.0  \n",
       "5   0.703258  0.677078  0.658477    78.84     0.132    1.0  \n",
       "7  -2.017166 -1.630227 -0.968915    22.74    -0.051   -1.0  \n",
       "11  0.280410 -1.799952 -1.866064    16.69     0.000    0.0  \n",
       "15 -0.067518 -0.003551 -0.810374   159.67    -0.079   -1.0  \n",
       "\n",
       "[5 rows x 25 columns]"
      ]
     },
     "execution_count": 7,
     "metadata": {},
     "output_type": "execute_result"
    }
   ],
   "source": [
    "train_all.head()"
   ]
  },
  {
   "cell_type": "code",
   "execution_count": 8,
   "id": "a52ed051",
   "metadata": {},
   "outputs": [],
   "source": [
    "def transfer_signal(df):\n",
    "    Y = np.array(df['label'])\n",
    "    encoder = OneHotEncoder(categories='auto')\n",
    "    labels = Y.reshape(-1, 1)  # 将标签转换为二维数组\n",
    "    y = encoder.fit_transform(labels).toarray()\n",
    "    df=np.array(df[0])\n",
    "    num_samples = df.shape[0]-20+1\n",
    "    X_new = np.zeros((num_samples, 20, 20))\n",
    "    y_new = np.zeros((num_samples, y.shape[1]))\n",
    "    for i in range(num_samples):\n",
    "        X_new[i] = df[i:i+20]\n",
    "        y_new[i] = y[i+20-1] \n",
    "    return X_new,y_new"
   ]
  },
  {
   "cell_type": "code",
   "execution_count": 9,
   "id": "a7729da3",
   "metadata": {},
   "outputs": [
    {
     "name": "stdout",
     "output_type": "stream",
     "text": [
      "(1191745, 20, 20, 1) (1191745, 3) (139782, 20, 20, 1) (139782, 3) (821248, 20, 20, 1) (821248, 3)\n"
     ]
    }
   ],
   "source": [
    "X_train, y_train = transfer_signal(train_all)\n",
    "X_val, y_val = transfer_signal(val_all)\n",
    "X_test, y_test=transfer_signal(test_all)\n",
    "X_train = X_train.reshape(X_train.shape[0], 20, 20, 1)\n",
    "X_test = X_test.reshape(X_test.shape[0], 20, 20, 1)\n",
    "X_val = X_val.reshape(X_val.shape[0], 20, 20, 1)\n",
    "print(X_train.shape,y_train.shape,X_val.shape, y_val.shape,X_test.shape, y_test.shape)"
   ]
  },
  {
   "cell_type": "code",
   "execution_count": 10,
   "id": "a0ca0edf",
   "metadata": {},
   "outputs": [],
   "source": [
    "# 构建模型\n",
    "model = tf.keras.Sequential([\n",
    "    tf.keras.layers.Conv2D(32, (2, 2), strides=(1, 1), padding = 'same',activation='relu', input_shape=(20, 20, 1)),\n",
    "    tf.keras.layers.BatchNormalization(),\n",
    "    tf.keras.layers.MaxPooling2D((2, 2), strides=(2, 2)),\n",
    "    tf.keras.layers.Conv2D(32, (2, 2), strides=(1, 1),  padding = 'same', activation='relu'),\n",
    "    tf.keras.layers.BatchNormalization(),\n",
    "    tf.keras.layers.MaxPooling2D((2, 2), strides=(2, 2)),\n",
    "    tf.keras.layers.Flatten(),\n",
    "    tf.keras.layers.Dense(256),\n",
    "    tf.keras.layers.Dense(3, activation='softmax')\n",
    "])"
   ]
  },
  {
   "cell_type": "code",
   "execution_count": 12,
   "id": "9102a2b5",
   "metadata": {},
   "outputs": [
    {
     "name": "stdout",
     "output_type": "stream",
     "text": [
      "You must install pydot (`pip install pydot`) and install graphviz (see instructions at https://graphviz.gitlab.io/download/) for plot_model to work.\n"
     ]
    }
   ],
   "source": [
    "plot_model(model, to_file='cnn_model.png', show_shapes=True)"
   ]
  },
  {
   "cell_type": "code",
   "execution_count": 13,
   "id": "95a4a268",
   "metadata": {},
   "outputs": [
    {
     "name": "stdout",
     "output_type": "stream",
     "text": [
      "Model: \"sequential\"\n",
      "_________________________________________________________________\n",
      " Layer (type)                Output Shape              Param #   \n",
      "=================================================================\n",
      " conv2d (Conv2D)             (None, 20, 20, 32)        160       \n",
      "                                                                 \n",
      " batch_normalization (BatchN  (None, 20, 20, 32)       128       \n",
      " ormalization)                                                   \n",
      "                                                                 \n",
      " max_pooling2d (MaxPooling2D  (None, 10, 10, 32)       0         \n",
      " )                                                               \n",
      "                                                                 \n",
      " conv2d_1 (Conv2D)           (None, 10, 10, 32)        4128      \n",
      "                                                                 \n",
      " batch_normalization_1 (Batc  (None, 10, 10, 32)       128       \n",
      " hNormalization)                                                 \n",
      "                                                                 \n",
      " max_pooling2d_1 (MaxPooling  (None, 5, 5, 32)         0         \n",
      " 2D)                                                             \n",
      "                                                                 \n",
      " flatten (Flatten)           (None, 800)               0         \n",
      "                                                                 \n",
      " dense (Dense)               (None, 256)               205056    \n",
      "                                                                 \n",
      " dense_1 (Dense)             (None, 3)                 771       \n",
      "                                                                 \n",
      "=================================================================\n",
      "Total params: 210,371\n",
      "Trainable params: 210,243\n",
      "Non-trainable params: 128\n",
      "_________________________________________________________________\n"
     ]
    }
   ],
   "source": [
    "model.summary()"
   ]
  },
  {
   "cell_type": "code",
   "execution_count": 14,
   "id": "56ae48fe",
   "metadata": {},
   "outputs": [],
   "source": [
    "# 编译模型\n",
    "model.compile(loss='categorical_crossentropy', optimizer=Adam(learning_rate=0.0001), metrics=['accuracy'])\n",
    "early_stop = EarlyStopping(monitor='loss', patience=5)"
   ]
  },
  {
   "cell_type": "code",
   "execution_count": 15,
   "id": "50e4506b",
   "metadata": {},
   "outputs": [
    {
     "name": "stdout",
     "output_type": "stream",
     "text": [
      "37243/37243 - 513s - loss: 1.0599 - accuracy: 0.4386 - val_loss: 0.9926 - val_accuracy: 0.4893 - 513s/epoch - 14ms/step\n"
     ]
    }
   ],
   "source": [
    "# 训练模型\n",
    "history = model.fit(X_train, y_train, epochs=1 , batch_size=32, validation_data=(X_val, y_val), verbose=2,shuffle = 'True',callbacks=[early_stop])"
   ]
  },
  {
   "cell_type": "code",
   "execution_count": 16,
   "id": "99474a7e",
   "metadata": {},
   "outputs": [
    {
     "name": "stdout",
     "output_type": "stream",
     "text": [
      "25664/25664 - 116s - loss: 1.0107 - accuracy: 0.4756 - 116s/epoch - 5ms/step\n",
      "Test accuracy: 0.4756224751472473\n",
      "Test loss: 1.0106884241104126\n"
     ]
    }
   ],
   "source": [
    "# 评估模型\n",
    "test_loss, test_acc = model.evaluate(X_test, y_test, verbose=2)\n",
    "print('Test accuracy:', test_acc)\n",
    "print('Test loss:', test_loss)"
   ]
  },
  {
   "cell_type": "code",
   "execution_count": 17,
   "id": "054709b4",
   "metadata": {},
   "outputs": [
    {
     "name": "stdout",
     "output_type": "stream",
     "text": [
      "25664/25664 [==============================] - 135s 5ms/step\n"
     ]
    }
   ],
   "source": [
    "#混淆矩阵验证\n",
    "y_pred = model.predict(X_test)\n",
    "y_pred_classes = np.argmax(y_pred,axis=1)\n",
    "y_test_clsses =  np.argmax(y_test,axis=1)\n",
    "confusion_mtx = confusion_matrix(y_true= y_test_clsses,y_pred = y_pred_classes)"
   ]
  },
  {
   "cell_type": "code",
   "execution_count": 18,
   "id": "c26ba5d1",
   "metadata": {},
   "outputs": [
    {
     "data": {
      "text/plain": [
       "Text(33.4375, 0.5, 'True Class')"
      ]
     },
     "execution_count": 18,
     "metadata": {},
     "output_type": "execute_result"
    },
    {
     "data": {
      "image/png": "[encoded data removed]",
      "text/plain": [
       "<Figure size 432x288 with 2 Axes>"
      ]
     },
     "metadata": {
      "needs_background": "light"
     },
     "output_type": "display_data"
    }
   ],
   "source": [
    "confusion_mtx_df=pd.DataFrame(confusion_mtx,index=['真实下跌', '真实平盘', '真实上涨'],columns=['预测下跌', '预测平盘', '预测上涨'])\n",
    "sns.heatmap(confusion_mtx_df,annot=True, fmt='d',cmap='Blues')\n",
    "plt.title('CNN Confusion Matrix')\n",
    "plt.xlabel('Predicted Class')\n",
    "plt.ylabel('True Class')"
   ]
  },
  {
   "cell_type": "code",
   "execution_count": 19,
   "id": "2ca39f90",
   "metadata": {},
   "outputs": [
    {
     "name": "stdout",
     "output_type": "stream",
     "text": [
      "              precision    recall  f1-score   support\n",
      "\n",
      "          下跌       0.48      0.64      0.54    274923\n",
      "          平盘       0.52      0.61      0.56    264848\n",
      "          上涨       0.38      0.20      0.26    281477\n",
      "\n",
      "    accuracy                           0.48    821248\n",
      "   macro avg       0.46      0.48      0.45    821248\n",
      "weighted avg       0.46      0.48      0.45    821248\n",
      "\n"
     ]
    }
   ],
   "source": [
    "print(classification_report(y_true= y_test_clsses,y_pred = y_pred_classes, target_names=['下跌', '平盘', '上涨']))"
   ]
  },
  {
   "cell_type": "code",
   "execution_count": 26,
   "id": "cbc64920",
   "metadata": {},
   "outputs": [
    {
     "data": {
      "image/png": "[encoded data removed]",
      "text/plain": [
       "<Figure size 432x288 with 1 Axes>"
      ]
     },
     "metadata": {
      "needs_background": "light"
     },
     "output_type": "display_data"
    }
   ],
   "source": [
    "plt.plot(history.history['val_accuracy'])\n",
    "plt.plot(history.history['accuracy'])\n",
    "plt.title('Model Accuracy')\n",
    "plt.ylabel('val_accuracy/train_accuracy')\n",
    "plt.xlabel('Epoch')\n",
    "plt.legend(['val_accuracy', 'train_accuracy'], loc='upper left')\n",
    "plt.show()"
   ]
  },
  {
   "cell_type": "code",
   "execution_count": 27,
   "id": "53aeef34",
   "metadata": {
    "scrolled": true
   },
   "outputs": [
    {
     "data": {
      "image/png": "[encoded data removed]",
      "text/plain": [
       "<Figure size 432x288 with 1 Axes>"
      ]
     },
     "metadata": {
      "needs_background": "light"
     },
     "output_type": "display_data"
    }
   ],
   "source": [
    "plt.plot(history.history['val_loss'])\n",
    "plt.plot(history.history['loss'])\n",
    "plt.title('Model Loss')\n",
    "plt.ylabel('val_loss/Loss')\n",
    "plt.xlabel('Epoch')\n",
    "plt.legend(['val_loss', 'Loss'], loc='upper left')\n",
    "plt.show()"
   ]
  },
  {
   "cell_type": "code",
   "execution_count": 204,
   "id": "5f29abd0",
   "metadata": {},
   "outputs": [],
   "source": [
    "#基于backtrader回测"
   ]
  },
  {
   "cell_type": "code",
   "execution_count": 205,
   "id": "51fb9a2b",
   "metadata": {},
   "outputs": [],
   "source": [
    "# 从mysql库里取涨停股数据 以及zz500指数数据\n",
    "wind_conn = WindSqlEngine('20200101', '20230101')\n",
    "uplimit_stocks = wind_conn.get_uplimit_stocks()\n",
    "zz500_index  = wind_conn.get_zhongzheng_index()\n",
    "uplimit_stocks['Date'] = pd.to_datetime(uplimit_stocks['Date'])\n",
    "zz500_index['Date'] = pd.to_datetime(zz500_index['Date'])"
   ]
  },
  {
   "cell_type": "code",
   "execution_count": 206,
   "id": "30f6a784",
   "metadata": {},
   "outputs": [],
   "source": [
    "uplimit_dict = uplimit_stocks.groupby('Date')['Ticker'].apply(list).to_dict()"
   ]
  },
  {
   "cell_type": "code",
   "execution_count": 207,
   "id": "c5821066",
   "metadata": {},
   "outputs": [
    {
     "data": {
      "text/plain": [
       "(821248, 3)"
      ]
     },
     "execution_count": 207,
     "metadata": {},
     "output_type": "execute_result"
    }
   ],
   "source": [
    "y_pred.shape"
   ]
  },
  {
   "cell_type": "code",
   "execution_count": 208,
   "id": "bdf16865",
   "metadata": {},
   "outputs": [],
   "source": [
    "backtrade_df = test_all.iloc[:y_pred.shape[0],:]\n",
    "backtrade_df.reset_index(inplace = True,drop = True)"
   ]
  },
  {
   "cell_type": "code",
   "execution_count": 209,
   "id": "be89f19e",
   "metadata": {},
   "outputs": [],
   "source": [
    "max_up_prob=y_pred[:, 2]\n",
    "max_up_prob=pd.DataFrame(max_up_prob,columns = ['prob'])"
   ]
  },
  {
   "cell_type": "code",
   "execution_count": 210,
   "id": "9b7c3ee9",
   "metadata": {},
   "outputs": [],
   "source": [
    "result = pd.concat([backtrade_df[[ 'Date',  'Ticker', 'close', 'return_5']],max_up_prob],axis=1,ignore_index = True)\n",
    "result.columns = [ 'Date',  'Ticker', 'close', 'return_5','prob']"
   ]
  },
  {
   "cell_type": "code",
   "execution_count": 211,
   "id": "f0167a7e",
   "metadata": {},
   "outputs": [
    {
     "data": {
      "text/html": [
       "<div>\n",
       "<style scoped>\n",
       "    .dataframe tbody tr th:only-of-type {\n",
       "        vertical-align: middle;\n",
       "    }\n",
       "\n",
       "    .dataframe tbody tr th {\n",
       "        vertical-align: top;\n",
       "    }\n",
       "\n",
       "    .dataframe thead th {\n",
       "        text-align: right;\n",
       "    }\n",
       "</style>\n",
       "<table border=\"1\" class=\"dataframe\">\n",
       "  <thead>\n",
       "    <tr style=\"text-align: right;\">\n",
       "      <th></th>\n",
       "      <th>Date</th>\n",
       "      <th>Ticker</th>\n",
       "      <th>close</th>\n",
       "      <th>return_5</th>\n",
       "      <th>prob</th>\n",
       "    </tr>\n",
       "  </thead>\n",
       "  <tbody>\n",
       "    <tr>\n",
       "      <th>0</th>\n",
       "      <td>2020-01-02</td>\n",
       "      <td>000008.SZ</td>\n",
       "      <td>82.85</td>\n",
       "      <td>0.016</td>\n",
       "      <td>0.380789</td>\n",
       "    </tr>\n",
       "    <tr>\n",
       "      <th>1</th>\n",
       "      <td>2020-01-02</td>\n",
       "      <td>000021.SZ</td>\n",
       "      <td>180.35</td>\n",
       "      <td>0.116</td>\n",
       "      <td>0.380564</td>\n",
       "    </tr>\n",
       "    <tr>\n",
       "      <th>2</th>\n",
       "      <td>2020-01-02</td>\n",
       "      <td>000026.SZ</td>\n",
       "      <td>85.63</td>\n",
       "      <td>-0.029</td>\n",
       "      <td>0.341104</td>\n",
       "    </tr>\n",
       "    <tr>\n",
       "      <th>3</th>\n",
       "      <td>2020-01-02</td>\n",
       "      <td>000035.SZ</td>\n",
       "      <td>28.18</td>\n",
       "      <td>-0.044</td>\n",
       "      <td>0.346778</td>\n",
       "    </tr>\n",
       "    <tr>\n",
       "      <th>4</th>\n",
       "      <td>2020-01-02</td>\n",
       "      <td>000036.SZ</td>\n",
       "      <td>47.49</td>\n",
       "      <td>-0.021</td>\n",
       "      <td>0.295896</td>\n",
       "    </tr>\n",
       "    <tr>\n",
       "      <th>...</th>\n",
       "      <td>...</td>\n",
       "      <td>...</td>\n",
       "      <td>...</td>\n",
       "      <td>...</td>\n",
       "      <td>...</td>\n",
       "    </tr>\n",
       "    <tr>\n",
       "      <th>821243</th>\n",
       "      <td>2022-12-23</td>\n",
       "      <td>688606.SH</td>\n",
       "      <td>117.73</td>\n",
       "      <td>-0.074</td>\n",
       "      <td>0.362981</td>\n",
       "    </tr>\n",
       "    <tr>\n",
       "      <th>821244</th>\n",
       "      <td>2022-12-23</td>\n",
       "      <td>688619.SH</td>\n",
       "      <td>10.37</td>\n",
       "      <td>0.004</td>\n",
       "      <td>0.390018</td>\n",
       "    </tr>\n",
       "    <tr>\n",
       "      <th>821245</th>\n",
       "      <td>2022-12-23</td>\n",
       "      <td>688621.SH</td>\n",
       "      <td>91.87</td>\n",
       "      <td>0.118</td>\n",
       "      <td>0.413301</td>\n",
       "    </tr>\n",
       "    <tr>\n",
       "      <th>821246</th>\n",
       "      <td>2022-12-23</td>\n",
       "      <td>688636.SH</td>\n",
       "      <td>97.86</td>\n",
       "      <td>0.082</td>\n",
       "      <td>0.363690</td>\n",
       "    </tr>\n",
       "    <tr>\n",
       "      <th>821247</th>\n",
       "      <td>2022-12-23</td>\n",
       "      <td>688639.SH</td>\n",
       "      <td>141.06</td>\n",
       "      <td>0.113</td>\n",
       "      <td>0.397389</td>\n",
       "    </tr>\n",
       "  </tbody>\n",
       "</table>\n",
       "<p>821248 rows × 5 columns</p>\n",
       "</div>"
      ],
      "text/plain": [
       "             Date     Ticker   close  return_5      prob\n",
       "0      2020-01-02  000008.SZ   82.85     0.016  0.380789\n",
       "1      2020-01-02  000021.SZ  180.35     0.116  0.380564\n",
       "2      2020-01-02  000026.SZ   85.63    -0.029  0.341104\n",
       "3      2020-01-02  000035.SZ   28.18    -0.044  0.346778\n",
       "4      2020-01-02  000036.SZ   47.49    -0.021  0.295896\n",
       "...           ...        ...     ...       ...       ...\n",
       "821243 2022-12-23  688606.SH  117.73    -0.074  0.362981\n",
       "821244 2022-12-23  688619.SH   10.37     0.004  0.390018\n",
       "821245 2022-12-23  688621.SH   91.87     0.118  0.413301\n",
       "821246 2022-12-23  688636.SH   97.86     0.082  0.363690\n",
       "821247 2022-12-23  688639.SH  141.06     0.113  0.397389\n",
       "\n",
       "[821248 rows x 5 columns]"
      ]
     },
     "execution_count": 211,
     "metadata": {},
     "output_type": "execute_result"
    }
   ],
   "source": [
    "result"
   ]
  },
  {
   "cell_type": "code",
   "execution_count": 212,
   "id": "5ef5ea1b",
   "metadata": {},
   "outputs": [],
   "source": [
    "result['return'] = result.groupby('Ticker')['close'].pct_change()"
   ]
  },
  {
   "cell_type": "code",
   "execution_count": 213,
   "id": "ee14b24a",
   "metadata": {},
   "outputs": [],
   "source": [
    "zz500_index['return'] = zz500_index.groupby('Ticker')['close'].pct_change()\n",
    "zz500_index['cum_return'] = (1 + zz500_index['return']).cumprod()\n",
    "\n",
    "zz500_index = zz500_index[zz500_index['Date']<='2022-12-23']"
   ]
  },
  {
   "cell_type": "code",
   "execution_count": 214,
   "id": "328c4336",
   "metadata": {},
   "outputs": [
    {
     "data": {
      "text/plain": [
       "(821248, 6)"
      ]
     },
     "execution_count": 214,
     "metadata": {},
     "output_type": "execute_result"
    }
   ],
   "source": [
    "result.shape"
   ]
  },
  {
   "cell_type": "code",
   "execution_count": 215,
   "id": "92539daa",
   "metadata": {},
   "outputs": [],
   "source": [
    "def calculate_annualized_return(daily_returns, annualization_factor):\n",
    "    cumulative_return = np.exp(np.log1p(daily_returns).sum()) - 1\n",
    "    annualized_return = (1 + cumulative_return) ** (annualization_factor / len(daily_returns)) - 1\n",
    "    return annualized_return\n",
    "\n",
    "\n",
    "def calculate_annualized_volatility(daily_returns, annualization_factor):\n",
    "    annualized_volatility = daily_returns.std() * np.sqrt(annualization_factor)\n",
    "    return annualized_volatility\n",
    "\n",
    "\n",
    "def calculate_performance_metrics(portfolio_returns, benchmark_returns):\n",
    "    excess_returns = portfolio_returns - benchmark_returns\n",
    "    alpha, beta, r_value, p_value, std_err = stats.linregress(benchmark_returns.values, portfolio_returns.values)\n",
    "    annualization_factor = 252  # assuming daily returns\n",
    "\n",
    "    metrics = {}\n",
    "    metrics['Total return'] = round((portfolio_returns + 1).prod() - 1,3)\n",
    "    metrics['Benchmark total return'] = (benchmark_returns + 1).prod() - 1\n",
    "    metrics['Excess return'] = excess_returns.mean()\n",
    "    metrics['Annualized return'] = calculate_annualized_return(portfolio_returns, annualization_factor)\n",
    "    metrics['Annualized benchmark return'] = calculate_annualized_return(benchmark_returns, annualization_factor)\n",
    "    metrics['Alpha'] = alpha\n",
    "    metrics['Annualized alpha'] = alpha * annualization_factor\n",
    "    metrics['Beta'] = beta\n",
    "    metrics['Annualized volatility'] = calculate_annualized_volatility(portfolio_returns, annualization_factor)\n",
    "    metrics['Sharpe ratio'] = metrics['Annualized return'] / metrics['Annualized volatility']\n",
    "    metrics['Sortino ratio'] = metrics['Annualized return'] / portfolio_returns[portfolio_returns < 0].std() * np.sqrt(annualization_factor)\n",
    "    metrics['Information ratio'] = excess_returns.mean() / excess_returns.std() * np.sqrt(annualization_factor)\n",
    "    metrics['Tracking error'] = excess_returns.std() * np.sqrt(annualization_factor)\n",
    "    metrics['Win rate'] = round((excess_returns > 0).mean(), 3)\n",
    "    new_dict = {}\n",
    "    for key, value in metrics.items():\n",
    "        new_dict[key] = round(value, 3)\n",
    "\n",
    "    return new_dict"
   ]
  },
  {
   "cell_type": "code",
   "execution_count": 216,
   "id": "39699d8e",
   "metadata": {},
   "outputs": [],
   "source": [
    "def backtest(data, uplimit_stocks,initial_capital=1000000, transaction_cost=0.0012):\n",
    "    # 计算每个交易日选出的前10只股票\n",
    "    dates=list(data['Date'].unique())\n",
    "    dates_predict = dates[::5]\n",
    "    df_buy = data.groupby('Date').apply(lambda x: x[~x['Ticker'].isin(uplimit_stocks[x.name])].nlargest(10, 'prob')).reset_index(drop=True)\n",
    "    df_buy = df_buy[~df_buy['prob'].isna()]\n",
    "\n",
    "    holdings = pd.DataFrame(index =list(data['Date'].unique()),columns = range(10),data = np.nan)\n",
    "\n",
    "    for dt in list(df_buy['Date'].unique()):\n",
    "        tickers = list(df_buy[df_buy['Date']==dt]['Ticker'])\n",
    "        holdings.loc[dt,:] = tickers\n",
    "\n",
    "    holdings=holdings.fillna(method='ffill')\n",
    "    result= pd.DataFrame(index = holdings.index)\n",
    "    for dt in tqdm(holdings.index):\n",
    "        if dt==holdings.index[0]:\n",
    "            result['capital'] = initial_capital\n",
    "        else:\n",
    "            today_ticker = list(holdings.loc[dt,:])\n",
    "            result.loc[dt,'daily_return'] = data.loc[(data['Date'] == dt) & (data['Ticker'].isin(today_ticker)), 'return'].mean()\n",
    "            result.loc[dt,'capital']= result['capital'].shift(1)[dt] *(1+result.loc[dt,'daily_return']-transaction_cost)\n",
    "    \n",
    "    result['cum_return'] = (1 + result['daily_return']).cumprod()\n",
    "    return result"
   ]
  },
  {
   "cell_type": "code",
   "execution_count": 217,
   "id": "93fb8849",
   "metadata": {},
   "outputs": [
    {
     "name": "stderr",
     "output_type": "stream",
     "text": [
      "100%|███████████████████████████████████████████████████████████████████████████████████████████████████████████████████████████████████████████████████| 723/723 [00:32<00:00, 22.00it/s]"
     ]
    },
    {
     "name": "stdout",
     "output_type": "stream",
     "text": [
      "                 capital  daily_return  cum_return\n",
      "2020-01-02  1.000000e+06           NaN         NaN\n",
      "2020-01-03  1.009520e+06      0.010720    1.010720\n",
      "2020-01-06  1.016561e+06      0.008174    1.018982\n",
      "2020-01-07  1.023887e+06      0.008407    1.027549\n",
      "2020-01-08  1.012551e+06     -0.009872    1.017405\n",
      "...                  ...           ...         ...\n",
      "2022-12-19  9.208747e+04     -0.045883    0.218547\n",
      "2022-12-20  9.000585e+04     -0.021405    0.213869\n",
      "2022-12-21  8.653594e+04     -0.037352    0.205881\n",
      "2022-12-22  8.262310e+04     -0.044016    0.196819\n",
      "2022-12-23  8.033036e+04     -0.026549    0.191593\n",
      "\n",
      "[723 rows x 3 columns]\n"
     ]
    },
    {
     "name": "stderr",
     "output_type": "stream",
     "text": [
      "\n"
     ]
    }
   ],
   "source": [
    "df_profit = backtest(result, uplimit_dict,initial_capital=1000000, transaction_cost=0.0012)\n",
    "print(df_profit)"
   ]
  },
  {
   "cell_type": "code",
   "execution_count": 218,
   "id": "54128c79",
   "metadata": {},
   "outputs": [
    {
     "name": "stdout",
     "output_type": "stream",
     "text": [
      "                            my_index\n",
      "Total return                  -0.808\n",
      "Benchmark total return         0.074\n",
      "Excess return                    NaN\n",
      "Annualized return             -0.438\n",
      "Annualized benchmark return    0.025\n",
      "Alpha                            NaN\n",
      "Annualized alpha                 NaN\n",
      "Beta                             NaN\n",
      "Annualized volatility          0.424\n",
      "Sharpe ratio                  -1.032\n",
      "Information ratio                NaN\n",
      "Tracking error                   NaN\n"
     ]
    }
   ],
   "source": [
    "performance_metrics = calculate_performance_metrics(df_profit['daily_return'], zz500_index['return'])\n",
    "print(pd.DataFrame(performance_metrics,index=['my_index'],columns =['Total return','Benchmark total return','Excess return','Annualized return','Annualized benchmark return','Alpha','Annualized alpha','Beta','Annualized volatility','Sharpe ratio','Information ratio','Tracking error']).T)"
   ]
  },
  {
   "cell_type": "code",
   "execution_count": 219,
   "id": "de64a120",
   "metadata": {},
   "outputs": [
    {
     "data": {
      "text/plain": [
       "<matplotlib.legend.Legend at 0x1cc30f5d760>"
      ]
     },
     "execution_count": 219,
     "metadata": {},
     "output_type": "execute_result"
    },
    {
     "data": {
      "image/png": "[encoded data removed]",
      "text/plain": [
       "<Figure size 864x432 with 1 Axes>"
      ]
     },
     "metadata": {
      "needs_background": "light"
     },
     "output_type": "display_data"
    }
   ],
   "source": [
    "plt.figure(figsize=(12, 6))\n",
    "plt.plot(zz500_index['Date'], zz500_index['cum_return'], color='r', label='benchmark')\n",
    "plt.plot(df_profit.index, df_profit['cum_return'], color='cornflowerblue', label='cum_return')\n",
    "plt.axhline(1, ls='--')\n",
    "plt.title('回测收益曲线图')\n",
    "plt.xlabel('时间（单位：天）')\n",
    "plt.ylabel('收益')\n",
    "plt.legend()\n"
   ]
  },
  {
   "cell_type": "code",
   "execution_count": null,
   "id": "b6bac1cd",
   "metadata": {},
   "outputs": [],
   "source": []
  }
 ],
 "metadata": {
  "kernelspec": {
   "display_name": "Python 3 (ipykernel)",
   "language": "python",
   "name": "python3"
  },
  "language_info": {
   "codemirror_mode": {
    "name": "ipython",
    "version": 3
   },
   "file_extension": ".py",
   "mimetype": "text/x-python",
   "name": "python",
   "nbconvert_exporter": "python",
   "pygments_lexer": "ipython3",
   "version": "3.9.1"
  }
 },
 "nbformat": 4,
 "nbformat_minor": 5
}
