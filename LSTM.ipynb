{
 "cells": [
  {
   "cell_type": "code",
   "execution_count": 39,
   "id": "eeaef374",
   "metadata": {},
   "outputs": [],
   "source": [
    "import numpy as np\n",
    "import pandas as pd\n",
    "import tensorflow as tf\n",
    "from sklearn.model_selection import train_test_split\n",
    "from tensorflow.keras.models import Sequential\n",
    "from tensorflow.keras.layers import Dense, Dropout, Flatten, Conv2D, MaxPooling2D\n",
    "from tensorflow.keras.optimizers import Adam,RMSprop\n",
    "import tensorflow.keras.optimizers as optimizers\n",
    "from sklearn.preprocessing import OneHotEncoder\n",
    "from deep_learning_models.get_dataset import get_feature_from_npy\n",
    "from construct_factor_database.wind_db_result import WindSqlEngine\n",
    "import matplotlib.pyplot as plt\n",
    "from tensorflow.keras.callbacks import EarlyStopping\n",
    "from tensorflow.keras import regularizers\n",
    "from sklearn.metrics import confusion_matrix, precision_score, recall_score, f1_score,roc_curve, auc,classification_report\n",
    "from scipy import stats\n",
    "from keras.utils import plot_model\n",
    "import seaborn as sns\n",
    "from tqdm import tqdm\n",
    "plt.rcParams['font.sans-serif'] = ['SimHei']"
   ]
  },
  {
   "cell_type": "code",
   "execution_count": null,
   "id": "39a4248b",
   "metadata": {},
   "outputs": [],
   "source": []
  },
  {
   "cell_type": "code",
   "execution_count": 338,
   "id": "9899a445",
   "metadata": {},
   "outputs": [
    {
     "name": "stderr",
     "output_type": "stream",
     "text": [
      "100%|█████████████████████████████████████████████████████████████████████████████████████████████████████████████████████████████████████████████████| 2430/2430 [03:04<00:00, 13.16it/s]\n"
     ]
    }
   ],
   "source": [
    "# 获取数据集\n",
    "data_all = get_feature_from_npy()"
   ]
  },
  {
   "cell_type": "code",
   "execution_count": 339,
   "id": "57dae8cd",
   "metadata": {},
   "outputs": [
    {
     "data": {
      "text/plain": [
       "(7870932, 25)"
      ]
     },
     "execution_count": 339,
     "metadata": {},
     "output_type": "execute_result"
    }
   ],
   "source": [
    "#十年因子数据\n",
    "data_all.shape"
   ]
  },
  {
   "cell_type": "code",
   "execution_count": null,
   "outputs": [],
   "source": [],
   "metadata": {
    "collapsed": false
   }
  },
  {
   "cell_type": "code",
   "execution_count": 340,
   "id": "e2114f0c",
   "metadata": {},
   "outputs": [
    {
     "data": {
      "text/plain": [
       "(2152832, 25)"
      ]
     },
     "execution_count": 340,
     "metadata": {},
     "output_type": "execute_result"
    }
   ],
   "source": [
    "#2013-2022有效数据(有label的数据)\n",
    "data_to_model = data_all.dropna()\n",
    "data_to_model.shape"
   ]
  },
  {
   "cell_type": "code",
   "execution_count": 341,
   "id": "f4a65d45",
   "metadata": {},
   "outputs": [
    {
     "name": "stdout",
     "output_type": "stream",
     "text": [
      "(1252916, 25)\n",
      "(821267, 25)\n",
      "(78649, 25)\n"
     ]
    }
   ],
   "source": [
    "train_all=data_to_model[data_to_model['Date']<='2019-09-01']\n",
    "test_all=data_to_model[data_to_model['Date']>='2020-01-01']\n",
    "val_all=data_to_model[(data_to_model['Date']>'2019-09-01') & (data_to_model['Date']<='2020-01-01')]\n",
    "print(train_all.shape)\n",
    "print(test_all.shape)\n",
    "print(val_all.shape)"
   ]
  },
  {
   "cell_type": "code",
   "execution_count": 6,
   "id": "6a3f8229",
   "metadata": {},
   "outputs": [
    {
     "data": {
      "text/html": [
       "<div>\n",
       "<style scoped>\n",
       "    .dataframe tbody tr th:only-of-type {\n",
       "        vertical-align: middle;\n",
       "    }\n",
       "\n",
       "    .dataframe tbody tr th {\n",
       "        vertical-align: top;\n",
       "    }\n",
       "\n",
       "    .dataframe thead th {\n",
       "        text-align: right;\n",
       "    }\n",
       "</style>\n",
       "<table border=\"1\" class=\"dataframe\">\n",
       "  <thead>\n",
       "    <tr style=\"text-align: right;\">\n",
       "      <th></th>\n",
       "      <th>Date</th>\n",
       "      <th>Ticker</th>\n",
       "      <th>0</th>\n",
       "      <th>0</th>\n",
       "      <th>0</th>\n",
       "      <th>0</th>\n",
       "      <th>0</th>\n",
       "      <th>0</th>\n",
       "      <th>0</th>\n",
       "      <th>0</th>\n",
       "      <th>...</th>\n",
       "      <th>0</th>\n",
       "      <th>0</th>\n",
       "      <th>0</th>\n",
       "      <th>0</th>\n",
       "      <th>0</th>\n",
       "      <th>0</th>\n",
       "      <th>0</th>\n",
       "      <th>close</th>\n",
       "      <th>return_5</th>\n",
       "      <th>label</th>\n",
       "    </tr>\n",
       "  </thead>\n",
       "  <tbody>\n",
       "    <tr>\n",
       "      <th>1</th>\n",
       "      <td>2013-01-04</td>\n",
       "      <td>000002.SZ</td>\n",
       "      <td>-0.965830</td>\n",
       "      <td>1.182998</td>\n",
       "      <td>0.947636</td>\n",
       "      <td>-0.002845</td>\n",
       "      <td>-0.665383</td>\n",
       "      <td>0.483191</td>\n",
       "      <td>0.220036</td>\n",
       "      <td>-0.515417</td>\n",
       "      <td>...</td>\n",
       "      <td>1.548047</td>\n",
       "      <td>0.318787</td>\n",
       "      <td>-0.101410</td>\n",
       "      <td>1.797035</td>\n",
       "      <td>-0.054150</td>\n",
       "      <td>-1.444809</td>\n",
       "      <td>-1.522456</td>\n",
       "      <td>1163.93</td>\n",
       "      <td>0.000</td>\n",
       "      <td>0.0</td>\n",
       "    </tr>\n",
       "    <tr>\n",
       "      <th>5</th>\n",
       "      <td>2013-01-04</td>\n",
       "      <td>000007.SZ</td>\n",
       "      <td>-1.512829</td>\n",
       "      <td>-1.164745</td>\n",
       "      <td>-2.465406</td>\n",
       "      <td>-0.773473</td>\n",
       "      <td>0.618476</td>\n",
       "      <td>-0.519624</td>\n",
       "      <td>-0.646017</td>\n",
       "      <td>-1.759949</td>\n",
       "      <td>...</td>\n",
       "      <td>-0.793496</td>\n",
       "      <td>0.693322</td>\n",
       "      <td>-1.355540</td>\n",
       "      <td>-0.539131</td>\n",
       "      <td>0.703258</td>\n",
       "      <td>0.677078</td>\n",
       "      <td>0.658477</td>\n",
       "      <td>78.84</td>\n",
       "      <td>0.132</td>\n",
       "      <td>1.0</td>\n",
       "    </tr>\n",
       "    <tr>\n",
       "      <th>7</th>\n",
       "      <td>2013-01-04</td>\n",
       "      <td>000011.SZ</td>\n",
       "      <td>-1.229412</td>\n",
       "      <td>-0.227101</td>\n",
       "      <td>-0.887079</td>\n",
       "      <td>1.254941</td>\n",
       "      <td>2.627087</td>\n",
       "      <td>0.576840</td>\n",
       "      <td>1.401817</td>\n",
       "      <td>-0.265266</td>\n",
       "      <td>...</td>\n",
       "      <td>-0.466465</td>\n",
       "      <td>-0.977753</td>\n",
       "      <td>-1.797352</td>\n",
       "      <td>1.464594</td>\n",
       "      <td>-2.017166</td>\n",
       "      <td>-1.630227</td>\n",
       "      <td>-0.968915</td>\n",
       "      <td>22.74</td>\n",
       "      <td>-0.051</td>\n",
       "      <td>-1.0</td>\n",
       "    </tr>\n",
       "    <tr>\n",
       "      <th>11</th>\n",
       "      <td>2013-01-04</td>\n",
       "      <td>000019.SZ</td>\n",
       "      <td>-0.764515</td>\n",
       "      <td>0.634445</td>\n",
       "      <td>0.430020</td>\n",
       "      <td>-0.088722</td>\n",
       "      <td>-0.565307</td>\n",
       "      <td>-0.105636</td>\n",
       "      <td>0.801835</td>\n",
       "      <td>0.028535</td>\n",
       "      <td>...</td>\n",
       "      <td>1.690449</td>\n",
       "      <td>-2.080887</td>\n",
       "      <td>-0.244009</td>\n",
       "      <td>2.730191</td>\n",
       "      <td>0.280410</td>\n",
       "      <td>-1.799952</td>\n",
       "      <td>-1.866064</td>\n",
       "      <td>16.69</td>\n",
       "      <td>0.000</td>\n",
       "      <td>0.0</td>\n",
       "    </tr>\n",
       "    <tr>\n",
       "      <th>15</th>\n",
       "      <td>2013-01-04</td>\n",
       "      <td>000024.SZ</td>\n",
       "      <td>-1.054044</td>\n",
       "      <td>0.408584</td>\n",
       "      <td>0.286493</td>\n",
       "      <td>1.106070</td>\n",
       "      <td>0.888920</td>\n",
       "      <td>0.236456</td>\n",
       "      <td>1.100890</td>\n",
       "      <td>0.937637</td>\n",
       "      <td>...</td>\n",
       "      <td>-0.317789</td>\n",
       "      <td>-0.462621</td>\n",
       "      <td>-1.426388</td>\n",
       "      <td>0.179909</td>\n",
       "      <td>-0.067518</td>\n",
       "      <td>-0.003551</td>\n",
       "      <td>-0.810374</td>\n",
       "      <td>159.67</td>\n",
       "      <td>-0.079</td>\n",
       "      <td>-1.0</td>\n",
       "    </tr>\n",
       "  </tbody>\n",
       "</table>\n",
       "<p>5 rows × 25 columns</p>\n",
       "</div>"
      ],
      "text/plain": [
       "         Date     Ticker         0         0         0         0         0  \\\n",
       "1  2013-01-04  000002.SZ -0.965830  1.182998  0.947636 -0.002845 -0.665383   \n",
       "5  2013-01-04  000007.SZ -1.512829 -1.164745 -2.465406 -0.773473  0.618476   \n",
       "7  2013-01-04  000011.SZ -1.229412 -0.227101 -0.887079  1.254941  2.627087   \n",
       "11 2013-01-04  000019.SZ -0.764515  0.634445  0.430020 -0.088722 -0.565307   \n",
       "15 2013-01-04  000024.SZ -1.054044  0.408584  0.286493  1.106070  0.888920   \n",
       "\n",
       "           0         0         0  ...         0         0         0         0  \\\n",
       "1   0.483191  0.220036 -0.515417  ...  1.548047  0.318787 -0.101410  1.797035   \n",
       "5  -0.519624 -0.646017 -1.759949  ... -0.793496  0.693322 -1.355540 -0.539131   \n",
       "7   0.576840  1.401817 -0.265266  ... -0.466465 -0.977753 -1.797352  1.464594   \n",
       "11 -0.105636  0.801835  0.028535  ...  1.690449 -2.080887 -0.244009  2.730191   \n",
       "15  0.236456  1.100890  0.937637  ... -0.317789 -0.462621 -1.426388  0.179909   \n",
       "\n",
       "           0         0         0    close  return_5  label  \n",
       "1  -0.054150 -1.444809 -1.522456  1163.93     0.000    0.0  \n",
       "5   0.703258  0.677078  0.658477    78.84     0.132    1.0  \n",
       "7  -2.017166 -1.630227 -0.968915    22.74    -0.051   -1.0  \n",
       "11  0.280410 -1.799952 -1.866064    16.69     0.000    0.0  \n",
       "15 -0.067518 -0.003551 -0.810374   159.67    -0.079   -1.0  \n",
       "\n",
       "[5 rows x 25 columns]"
      ]
     },
     "execution_count": 6,
     "metadata": {},
     "output_type": "execute_result"
    }
   ],
   "source": [
    "train_all.head()"
   ]
  },
  {
   "cell_type": "code",
   "execution_count": 7,
   "id": "a52ed051",
   "metadata": {},
   "outputs": [],
   "source": [
    "def transfer_signal(df):\n",
    "    Y = np.array(df['label'])\n",
    "    encoder = OneHotEncoder(categories='auto')\n",
    "    labels = Y.reshape(-1, 1)  # 将标签转换为二维数组\n",
    "    y = encoder.fit_transform(labels).toarray()\n",
    "    df=np.array(df[0])\n",
    "    num_samples = df.shape[0]-20+1\n",
    "    X_new = np.zeros((num_samples, 20, 20))\n",
    "    y_new = np.zeros((num_samples, y.shape[1]))\n",
    "    for i in range(num_samples):\n",
    "        X_new[i] = df[i:i+20]\n",
    "        y_new[i] = y[i+20-1] \n",
    "    return X_new,y_new"
   ]
  },
  {
   "cell_type": "code",
   "execution_count": 43,
   "id": "a7729da3",
   "metadata": {},
   "outputs": [
    {
     "name": "stdout",
     "output_type": "stream",
     "text": [
      "(1191745, 20, 20) (1191745, 3) (139782, 20, 20) (139782, 3) (821248, 20, 20) (821248, 3)\n"
     ]
    }
   ],
   "source": [
    "X_train, y_train = transfer_signal(train_all)\n",
    "X_val, y_val = transfer_signal(val_all)\n",
    "X_test, y_test=transfer_signal(test_all)\n",
    "\n",
    "print(X_train.shape,y_train.shape,X_val.shape, y_val.shape,X_test.shape, y_test.shape)"
   ]
  },
  {
   "cell_type": "code",
   "execution_count": 304,
   "id": "a0ca0edf",
   "metadata": {},
   "outputs": [],
   "source": [
    "# 构建模型\n",
    "model = tf.keras.Sequential([\n",
    "    tf.keras.layers.LSTM(20, input_shape=(20, 20), return_sequences=True),\n",
    "    tf.keras.layers.Dropout(0.2),\n",
    "    tf.keras.layers.LSTM(20, return_sequences=True),\n",
    "    tf.keras.layers.Dropout(0.2),\n",
    "    tf.keras.layers.LSTM(20),\n",
    "    tf.keras.layers.Dropout(0.2),\n",
    "    tf.keras.layers.Dense(3, activation='softmax')\n",
    "])"
   ]
  },
  {
   "cell_type": "code",
   "execution_count": 70,
   "id": "9102a2b5",
   "metadata": {},
   "outputs": [
    {
     "name": "stdout",
     "output_type": "stream",
     "text": [
      "You must install pydot (`pip install pydot`) and install graphviz (see instructions at https://graphviz.gitlab.io/download/) for plot_model to work.\n"
     ]
    }
   ],
   "source": [
    "plot_model(model, to_file='cnn_model.png', show_shapes=True)"
   ]
  },
  {
   "cell_type": "code",
   "execution_count": 305,
   "id": "95a4a268",
   "metadata": {},
   "outputs": [
    {
     "name": "stdout",
     "output_type": "stream",
     "text": [
      "Model: \"sequential_8\"\n",
      "_________________________________________________________________\n",
      " Layer (type)                Output Shape              Param #   \n",
      "=================================================================\n",
      " lstm_20 (LSTM)              (None, 20, 20)            3280      \n",
      "                                                                 \n",
      " dropout_20 (Dropout)        (None, 20, 20)            0         \n",
      "                                                                 \n",
      " lstm_21 (LSTM)              (None, 20, 20)            3280      \n",
      "                                                                 \n",
      " dropout_21 (Dropout)        (None, 20, 20)            0         \n",
      "                                                                 \n",
      " lstm_22 (LSTM)              (None, 20)                3280      \n",
      "                                                                 \n",
      " dropout_22 (Dropout)        (None, 20)                0         \n",
      "                                                                 \n",
      " dense_9 (Dense)             (None, 3)                 63        \n",
      "                                                                 \n",
      "=================================================================\n",
      "Total params: 9,903\n",
      "Trainable params: 9,903\n",
      "Non-trainable params: 0\n",
      "_________________________________________________________________\n"
     ]
    }
   ],
   "source": [
    "model.summary()"
   ]
  },
  {
   "cell_type": "code",
   "execution_count": 306,
   "id": "56ae48fe",
   "metadata": {},
   "outputs": [],
   "source": [
    "# 使用RMSprop优化器进行训练\n",
    "rmsprop = RMSprop(learning_rate=0.0001, rho=0.9)\n",
    "model.compile(loss='categorical_crossentropy',\n",
    "              optimizer=rmsprop,\n",
    "              metrics=['accuracy'])\n",
    "early_stop = EarlyStopping(monitor='val_loss', patience=3)"
   ]
  },
  {
   "cell_type": "code",
   "execution_count": 307,
   "id": "50e4506b",
   "metadata": {},
   "outputs": [
    {
     "name": "stdout",
     "output_type": "stream",
     "text": [
      "Epoch 1/10\n",
      "37243/37243 - 625s - loss: 1.0848 - accuracy: 0.3783 - val_loss: 1.0224 - val_accuracy: 0.4673 - 625s/epoch - 17ms/step\n",
      "Epoch 2/10\n",
      "37243/37243 - 625s - loss: 1.0409 - accuracy: 0.4467 - val_loss: 0.9975 - val_accuracy: 0.4830 - 625s/epoch - 17ms/step\n",
      "Epoch 3/10\n",
      "37243/37243 - 623s - loss: 1.0311 - accuracy: 0.4568 - val_loss: 0.9925 - val_accuracy: 0.4885 - 623s/epoch - 17ms/step\n",
      "Epoch 4/10\n",
      "37243/37243 - 623s - loss: 1.0266 - accuracy: 0.4614 - val_loss: 0.9898 - val_accuracy: 0.4893 - 623s/epoch - 17ms/step\n",
      "Epoch 5/10\n",
      "37243/37243 - 631s - loss: 1.0238 - accuracy: 0.4640 - val_loss: 0.9870 - val_accuracy: 0.4943 - 631s/epoch - 17ms/step\n",
      "Epoch 6/10\n",
      "37243/37243 - 633s - loss: 1.0215 - accuracy: 0.4660 - val_loss: 0.9875 - val_accuracy: 0.4921 - 633s/epoch - 17ms/step\n",
      "Epoch 7/10\n",
      "37243/37243 - 635s - loss: 1.0196 - accuracy: 0.4679 - val_loss: 0.9843 - val_accuracy: 0.4935 - 635s/epoch - 17ms/step\n",
      "Epoch 8/10\n",
      "37243/37243 - 631s - loss: 1.0182 - accuracy: 0.4694 - val_loss: 0.9841 - val_accuracy: 0.4944 - 631s/epoch - 17ms/step\n",
      "Epoch 9/10\n",
      "37243/37243 - 621s - loss: 1.0169 - accuracy: 0.4704 - val_loss: 0.9838 - val_accuracy: 0.4944 - 621s/epoch - 17ms/step\n",
      "Epoch 10/10\n",
      "37243/37243 - 632s - loss: 1.0157 - accuracy: 0.4715 - val_loss: 0.9843 - val_accuracy: 0.4934 - 632s/epoch - 17ms/step\n"
     ]
    }
   ],
   "source": [
    "# 训练模型\n",
    "history = model.fit(X_train, y_train, epochs=10 , batch_size=32, validation_data=(X_val, y_val), verbose=2,shuffle = 'True',callbacks=[early_stop])"
   ]
  },
  {
   "cell_type": "code",
   "execution_count": 310,
   "id": "99474a7e",
   "metadata": {},
   "outputs": [
    {
     "name": "stdout",
     "output_type": "stream",
     "text": [
      "25664/25664 - 108s - loss: 1.0036 - accuracy: 0.4754 - 108s/epoch - 4ms/step\n",
      "Test accuracy: 0.47543615102767944\n",
      "Test loss: 1.003561019897461\n"
     ]
    }
   ],
   "source": [
    "# 评估模型\n",
    "test_loss, test_acc = model.evaluate(X_test, y_test, verbose=2)\n",
    "print('Test accuracy:', test_acc)\n",
    "print('Test loss:', test_loss)"
   ]
  },
  {
   "cell_type": "code",
   "execution_count": 311,
   "id": "054709b4",
   "metadata": {},
   "outputs": [
    {
     "name": "stdout",
     "output_type": "stream",
     "text": [
      "25664/25664 [==============================] - 190s 7ms/step\n"
     ]
    }
   ],
   "source": [
    "#混淆矩阵验证\n",
    "y_pred = model.predict(X_test)\n",
    "y_pred_classes = np.argmax(y_pred,axis=1)\n",
    "y_test_clsses =  np.argmax(y_test,axis=1)\n",
    "confusion_mtx = confusion_matrix(y_true= y_test_clsses,y_pred = y_pred_classes)"
   ]
  },
  {
   "cell_type": "code",
   "execution_count": 344,
   "id": "c26ba5d1",
   "metadata": {},
   "outputs": [
    {
     "data": {
      "text/plain": [
       "Text(33.4375, 0.5, 'True Class')"
      ]
     },
     "execution_count": 344,
     "metadata": {},
     "output_type": "execute_result"
    },
    {
     "data": {
      "image/png": "[encoded data removed]",
      "text/plain": [
       "<Figure size 432x288 with 2 Axes>"
      ]
     },
     "metadata": {
      "needs_background": "light"
     },
     "output_type": "display_data"
    }
   ],
   "source": [
    "confusion_mtx_df=pd.DataFrame(confusion_mtx,index=['真实下跌', '真实平盘', '真实上涨'],columns=['预测下跌', '预测平盘', '预测上涨'])\n",
    "sns.heatmap(confusion_mtx_df,annot=True, fmt='d',cmap='Blues')\n",
    "plt.title('LSTM Confusion Matrix')\n",
    "plt.xlabel('Predicted Class')\n",
    "plt.ylabel('True Class')"
   ]
  },
  {
   "cell_type": "code",
   "execution_count": 313,
   "id": "2ca39f90",
   "metadata": {},
   "outputs": [
    {
     "name": "stdout",
     "output_type": "stream",
     "text": [
      "              precision    recall  f1-score   support\n",
      "\n",
      "          下跌       0.48      0.63      0.55    274923\n",
      "          平盘       0.54      0.55      0.55    264848\n",
      "          上涨       0.37      0.25      0.30    281477\n",
      "\n",
      "    accuracy                           0.48    821248\n",
      "   macro avg       0.46      0.48      0.46    821248\n",
      "weighted avg       0.46      0.48      0.46    821248\n",
      "\n"
     ]
    }
   ],
   "source": [
    "print(classification_report(y_true= y_test_clsses,y_pred = y_pred_classes, target_names=['下跌', '平盘', '上涨']))"
   ]
  },
  {
   "cell_type": "code",
   "execution_count": 308,
   "id": "cbc64920",
   "metadata": {},
   "outputs": [
    {
     "data": {
      "image/png": "[encoded data removed]",
      "text/plain": [
       "<Figure size 432x288 with 1 Axes>"
      ]
     },
     "metadata": {
      "needs_background": "light"
     },
     "output_type": "display_data"
    }
   ],
   "source": [
    "plt.plot(history.history['val_accuracy'])\n",
    "plt.plot(history.history['accuracy'])\n",
    "plt.title('Model Accuracy')\n",
    "plt.ylabel('val_accuracy/train_accuracy')\n",
    "plt.xlabel('Epoch')\n",
    "plt.legend(['val_accuracy', 'train_accuracy'], loc='upper left')\n",
    "plt.show()"
   ]
  },
  {
   "cell_type": "code",
   "execution_count": 309,
   "id": "53aeef34",
   "metadata": {
    "scrolled": true
   },
   "outputs": [
    {
     "data": {
      "image/png": "[encoded data removed]",
      "text/plain": [
       "<Figure size 432x288 with 1 Axes>"
      ]
     },
     "metadata": {
      "needs_background": "light"
     },
     "output_type": "display_data"
    }
   ],
   "source": [
    "plt.plot(history.history['val_loss'])\n",
    "plt.plot(history.history['loss'])\n",
    "plt.title('Model Loss')\n",
    "plt.ylabel('val_loss/Loss')\n",
    "plt.xlabel('Epoch')\n",
    "plt.legend(['val_loss', 'Loss'], loc='upper left')\n",
    "plt.show()"
   ]
  },
  {
   "cell_type": "code",
   "execution_count": 84,
   "id": "5f29abd0",
   "metadata": {},
   "outputs": [],
   "source": [
    "#基于backtrader回测"
   ]
  },
  {
   "cell_type": "code",
   "execution_count": 314,
   "id": "51fb9a2b",
   "metadata": {},
   "outputs": [],
   "source": [
    "# 从mysql库里取涨停股数据 以及zz500指数数据\n",
    "wind_conn = WindSqlEngine('20200101', '20230101')\n",
    "uplimit_stocks = wind_conn.get_uplimit_stocks()\n",
    "zz500_index  = wind_conn.get_zhongzheng_index()\n",
    "uplimit_stocks['Date'] = pd.to_datetime(uplimit_stocks['Date'])\n",
    "zz500_index['Date'] = pd.to_datetime(zz500_index['Date'])"
   ]
  },
  {
   "cell_type": "code",
   "execution_count": 315,
   "id": "30f6a784",
   "metadata": {},
   "outputs": [],
   "source": [
    "uplimit_dict = uplimit_stocks.groupby('Date')['Ticker'].apply(list).to_dict()"
   ]
  },
  {
   "cell_type": "code",
   "execution_count": 316,
   "id": "c5821066",
   "metadata": {},
   "outputs": [
    {
     "data": {
      "text/plain": [
       "(821248, 3)"
      ]
     },
     "execution_count": 316,
     "metadata": {},
     "output_type": "execute_result"
    }
   ],
   "source": [
    "y_pred.shape"
   ]
  },
  {
   "cell_type": "code",
   "execution_count": 334,
   "id": "ecd680da",
   "metadata": {},
   "outputs": [],
   "source": [
    "price_data = data_all.loc[data_all['Date']>='2020-01-01',['Date','Ticker','close']]\n",
    "price_data = pd.merge(price_data, uplimit_stocks, on=['Date', 'Ticker'], how='outer', indicator=True)\n",
    "price_data = price_data[price_data['_merge'] == 'left_only'].drop(columns='_merge')"
   ]
  },
  {
   "cell_type": "code",
   "execution_count": 191,
   "id": "bdf16865",
   "metadata": {},
   "outputs": [],
   "source": [
    "backtrade_df = test_all.iloc[:y_pred.shape[0],:]\n",
    "backtrade_df.reset_index(inplace = True,drop = True)"
   ]
  },
  {
   "cell_type": "code",
   "execution_count": 295,
   "id": "be89f19e",
   "metadata": {},
   "outputs": [],
   "source": [
    "max_up_prob=1-y_pred[:, 0]\n",
    "max_up_prob=pd.DataFrame(max_up_prob,columns = ['prob'])"
   ]
  },
  {
   "cell_type": "code",
   "execution_count": 296,
   "id": "9b7c3ee9",
   "metadata": {},
   "outputs": [],
   "source": [
    "result = pd.concat([backtrade_df[[ 'Date',  'Ticker',  'return_5']],max_up_prob],axis=1,ignore_index = True)\n",
    "result.columns = [ 'Date',  'Ticker', 'return_5','prob']\n",
    "result = pd.merge(price_data,result,how = 'left',on = [ 'Date',  'Ticker'])\n",
    "result['return'] = result.groupby('Ticker')['close'].pct_change()"
   ]
  },
  {
   "cell_type": "code",
   "execution_count": 297,
   "id": "f0167a7e",
   "metadata": {},
   "outputs": [
    {
     "data": {
      "text/plain": [
       "(2908759, 6)"
      ]
     },
     "execution_count": 297,
     "metadata": {},
     "output_type": "execute_result"
    }
   ],
   "source": [
    "result.shape"
   ]
  },
  {
   "cell_type": "code",
   "execution_count": 335,
   "id": "ee14b24a",
   "metadata": {},
   "outputs": [],
   "source": [
    "zz500_index['return'] = zz500_index.groupby('Ticker')['close'].pct_change()\n",
    "zz500_index['cum_return'] = (1 + zz500_index['return']).cumprod()"
   ]
  },
  {
   "cell_type": "code",
   "execution_count": 299,
   "id": "92539daa",
   "metadata": {},
   "outputs": [],
   "source": [
    "def calculate_metrics(portfolio_returns, benchmark_returns, risk_free_rate=0.0, periods_per_year=252):\n",
    "    # Calculate total return\n",
    "    total_return = (portfolio_returns + 1).prod() - 1\n",
    "    \n",
    "    # Calculate benchmark total return\n",
    "    benchmark_total_return = (benchmark_returns + 1).prod() - 1\n",
    "    \n",
    "    \n",
    "    # Calculate annualized returns\n",
    "    annualized_return = (1 + total_return) ** (periods_per_year / len(portfolio_returns)) - 1\n",
    "    annualized_benchmark_return = (1 + benchmark_total_return) ** (periods_per_year / len(benchmark_returns)) - 1\n",
    "    \n",
    "    # Calculate volatility\n",
    "    volatility = np.std(portfolio_returns)\n",
    "    benchmark_volatility = np.std(benchmark_returns)\n",
    "    \n",
    "    # Calculate annualized volatility\n",
    "    annualized_volatility = volatility * np.sqrt(periods_per_year)\n",
    "    annualized_benchmark_volatility = benchmark_volatility * np.sqrt(periods_per_year)\n",
    "    # Calculate beta\n",
    "    covariance_matrix = np.cov(portfolio_returns, benchmark_returns)\n",
    "\n",
    "    beta = covariance_matrix[0][1] / covariance_matrix[1][1]\n",
    "    # Calculate alpha\n",
    "    alpha = annualized_return - (risk_free_rate + beta * (annualized_benchmark_return - risk_free_rate))\n",
    "    \n",
    "    # Calculate Sharpe ratio\n",
    "    sharpe_ratio = (annualized_return - risk_free_rate) / annualized_volatility\n",
    "    \n",
    "    # Calculate Sortino ratio\n",
    "    downside_returns = portfolio_returns[portfolio_returns < 0]\n",
    "    downside_deviation = np.std(downside_returns)\n",
    "    sortino_ratio = (annualized_return - risk_free_rate) / downside_deviation * np.sqrt(periods_per_year)\n",
    "    \n",
    "    # Calculate win rate\n",
    "    win_rate = (portfolio_returns > 0).mean()\n",
    "    \n",
    "    # Calculate max drawdown\n",
    "    cum_returns = (portfolio_returns + 1).cumprod()\n",
    "    max_drawdown = (cum_returns.cummax() - cum_returns).max()\n",
    "    \n",
    "    # Format output as dictionary\n",
    "    metrics = {\n",
    "        'Total return': total_return,\n",
    "        'Benchmark total return': benchmark_total_return,\n",
    "        'Annualized return': annualized_return,\n",
    "        'Annualized benchmark return': annualized_benchmark_return,\n",
    "        'Annualized volatility': annualized_volatility,\n",
    "        'Annualized benchmark volatility': annualized_benchmark_volatility,\n",
    "        'Sharpe ratio': sharpe_ratio,\n",
    "        'Sortino ratio': sortino_ratio,\n",
    "        'Win rate': win_rate,\n",
    "        'Max drawdown': max_drawdown,\n",
    "        'alpha':alpha,\n",
    "        'Beta':beta\n",
    "    }\n",
    "    \n",
    "    return metrics\n"
   ]
  },
  {
   "cell_type": "code",
   "execution_count": 331,
   "id": "39699d8e",
   "metadata": {},
   "outputs": [],
   "source": [
    "def backtest(data,initial_capital=1000000, transaction_cost=0.0012):\n",
    "    \n",
    "    # 计算每个交易日选出的前10只股票\n",
    "    data=data[~data['Ticker'].str.startswith(('688', '300'))]\n",
    "    dates=list(data['Date'].unique())\n",
    "    dates_predict = dates[::5]\n",
    "    data['prob'] = data['prob'].fillna(0)\n",
    "#     print(data)\n",
    "    df_buy = data.groupby('Date').apply(lambda x: x.nlargest(10, 'prob')).reset_index(drop=True)\n",
    "    df_buy = df_buy[~df_buy['prob'].isna()]\n",
    "#     print(df_buy)\n",
    "#   df_predict 每天选出的前n只股票\n",
    "#   holdings 每天持仓股情况\n",
    "    holdings = pd.DataFrame(index =list(data['Date'].unique()),columns = range(10),data = np.nan)\n",
    "\n",
    "    for dt in dates_predict:\n",
    "        tickers = list(df_buy[df_buy['Date']==dt]['Ticker'])\n",
    "        holdings.loc[dt,:] = tickers\n",
    "    holdings=holdings.fillna(method='ffill')\n",
    "    holdings.to_csv(f'C://Users//LYQ//Desktop//parquet_data//lstm_holdings.csv')\n",
    "    df_all= pd.DataFrame(index = holdings.index)\n",
    "    for dt in tqdm(holdings.index):\n",
    "        if dt==holdings.index[0]:\n",
    "            df_all['capital'] = initial_capital\n",
    "        else:\n",
    "            today_ticker = list(holdings.loc[dt,:])\n",
    "            if dt in dates_predict:\n",
    "                df_all.loc[dt,'daily_return'] = data.loc[(data['Date'] == dt) & (data['Ticker'].isin(today_ticker)), 'return'].mean()-transaction_cost\n",
    "            else:\n",
    "                df_all.loc[dt,'daily_return'] = data.loc[(data['Date'] == dt) & (data['Ticker'].isin(today_ticker)), 'return'].mean()\n",
    "            df_all.loc[dt,'capital']= df_all['capital'].shift(1)[dt] *(1+df_all.loc[dt,'daily_return'])\n",
    "    df_all['cum_return'] = (1 + df_all['daily_return']).cumprod()\n",
    "    return df_all"
   ]
  },
  {
   "cell_type": "code",
   "execution_count": 332,
   "id": "93fb8849",
   "metadata": {
    "scrolled": true
   },
   "outputs": [
    {
     "name": "stderr",
     "output_type": "stream",
     "text": [
      "100%|███████████████████████████████████████████████████████████████████████████████████████████████████████████████████████████████████████████████████| 728/728 [01:04<00:00, 11.30it/s]"
     ]
    },
    {
     "name": "stdout",
     "output_type": "stream",
     "text": [
      "                 capital  daily_return  cum_return\n",
      "2020-01-02  1.000000e+06           NaN         NaN\n",
      "2020-01-03  9.961918e+05     -0.003808    0.996192\n",
      "2020-01-06  9.952906e+05     -0.000905    0.995291\n",
      "2020-01-07  1.002773e+06      0.007518    1.002773\n",
      "2020-01-08  9.807808e+05     -0.021931    0.980781\n",
      "...                  ...           ...         ...\n",
      "2022-12-26  2.618783e+06      0.008629    2.618783\n",
      "2022-12-27  2.645376e+06      0.010155    2.645376\n",
      "2022-12-28  2.669495e+06      0.009117    2.669495\n",
      "2022-12-29  2.588726e+06     -0.030256    2.588726\n",
      "2022-12-30  2.617815e+06      0.011237    2.617815\n",
      "\n",
      "[728 rows x 3 columns]\n"
     ]
    },
    {
     "name": "stderr",
     "output_type": "stream",
     "text": [
      "\n"
     ]
    }
   ],
   "source": [
    "df_profit = backtest(result,initial_capital=1000000, transaction_cost=0.0012)\n",
    "print(df_profit)"
   ]
  },
  {
   "cell_type": "code",
   "execution_count": 342,
   "id": "c950d2d4",
   "metadata": {},
   "outputs": [],
   "source": [
    "df_profit.to_csv(f'C://Users//LYQ//Desktop//single_factor_report//lstm_return.csv')"
   ]
  },
  {
   "cell_type": "code",
   "execution_count": 343,
   "id": "54128c79",
   "metadata": {},
   "outputs": [],
   "source": [
    "performance_metrics = calculate_metrics(df_profit['daily_return'].fillna(0), zz500_index['return'].fillna(0))\n",
    "a = pd.DataFrame(performance_metrics,index=['LSTM'],columns =['Total return','Benchmark total return','Annualized return','Annualized benchmark return','Annualized volatility','Annualized benchmark volatility','Sharpe ratio', 'Sortino ratio', 'Win rate','Max drawdown','alpha','Beta']).T\n",
    "a.to_csv(f'C://Users//LYQ//Desktop//single_factor_report//lstm_metrics.csv')"
   ]
  },
  {
   "cell_type": "code",
   "execution_count": 337,
   "id": "de64a120",
   "metadata": {},
   "outputs": [
    {
     "data": {
      "text/plain": [
       "<matplotlib.legend.Legend at 0x2043ea2c040>"
      ]
     },
     "execution_count": 337,
     "metadata": {},
     "output_type": "execute_result"
    },
    {
     "data": {
      "image/png": "[encoded data removed]",
      "text/plain": [
       "<Figure size 864x432 with 1 Axes>"
      ]
     },
     "metadata": {
      "needs_background": "light"
     },
     "output_type": "display_data"
    }
   ],
   "source": [
    "plt.figure(figsize=(12, 6))\n",
    "plt.plot(zz500_index['Date'], zz500_index['cum_return'], color='r', label='benchmark')\n",
    "plt.plot(df_profit.index, df_profit['cum_return'], color='cornflowerblue', label='cum_return')\n",
    "\n",
    "plt.axhline(1, ls='--')\n",
    "plt.title('LSTM-回测收益曲线图')\n",
    "plt.xlabel('时间（单位：天）')\n",
    "plt.ylabel('收益')\n",
    "plt.legend()\n"
   ]
  },
  {
   "cell_type": "code",
   "execution_count": null,
   "id": "b6bac1cd",
   "metadata": {},
   "outputs": [],
   "source": []
  },
  {
   "cell_type": "code",
   "execution_count": null,
   "id": "32a3d306",
   "metadata": {},
   "outputs": [],
   "source": []
  }
 ],
 "metadata": {
  "kernelspec": {
   "display_name": "Python 3 (ipykernel)",
   "language": "python",
   "name": "python3"
  },
  "language_info": {
   "codemirror_mode": {
    "name": "ipython",
    "version": 3
   },
   "file_extension": ".py",
   "mimetype": "text/x-python",
   "name": "python",
   "nbconvert_exporter": "python",
   "pygments_lexer": "ipython3",
   "version": "3.9.1"
  }
 },
 "nbformat": 4,
 "nbformat_minor": 5
}
