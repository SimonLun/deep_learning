{
 "cells": [
  {
   "cell_type": "code",
   "execution_count": 1,
   "id": "eeaef374",
   "metadata": {},
   "outputs": [],
   "source": [
    "import numpy as np\n",
    "import pandas as pd\n",
    "import tensorflow as tf\n",
    "from sklearn.model_selection import train_test_split\n",
    "from tensorflow.keras.models import Sequential\n",
    "from tensorflow.keras.layers import Dense, Dropout, Flatten, Conv2D, MaxPooling2D\n",
    "from tensorflow.keras.optimizers import Adam\n",
    "import tensorflow.keras.optimizers as optimizers\n",
    "from sklearn.preprocessing import OneHotEncoder\n",
    "from deep_learning_models.get_dataset import get_feature_from_npy\n",
    "from construct_factor_database.wind_db_result import WindSqlEngine\n",
    "import matplotlib.pyplot as plt\n",
    "from tensorflow.keras.callbacks import EarlyStopping\n",
    "from tensorflow.keras import regularizers\n",
    "from sklearn.metrics import confusion_matrix, precision_score, recall_score, f1_score,roc_curve, auc,classification_report\n",
    "from scipy import stats\n",
    "from keras.utils import plot_model\n",
    "import seaborn as sns\n",
    "from tqdm import tqdm\n",
    "plt.rcParams['font.sans-serif'] = ['SimHei']"
   ]
  },
  {
   "cell_type": "code",
   "execution_count": null,
   "id": "39a4248b",
   "metadata": {},
   "outputs": [],
   "source": []
  },
  {
   "cell_type": "code",
   "execution_count": 3,
   "id": "9899a445",
   "metadata": {},
   "outputs": [
    {
     "name": "stderr",
     "output_type": "stream",
     "text": [
      "100%|█████████████████████████████████████████████████████████████████████████████████████████████████████████████████████████████████████████████████| 2430/2430 [03:15<00:00, 12.42it/s]\n"
     ]
    }
   ],
   "source": [
    "# 获取数据集\n",
    "data_all = get_feature_from_npy()"
   ]
  },
  {
   "cell_type": "code",
   "execution_count": 4,
   "id": "57dae8cd",
   "metadata": {},
   "outputs": [
    {
     "data": {
      "text/plain": [
       "(7870932, 25)"
      ]
     },
     "execution_count": 4,
     "metadata": {},
     "output_type": "execute_result"
    }
   ],
   "source": [
    "#十年因子数据\n",
    "data_all.shape"
   ]
  },
  {
   "cell_type": "code",
   "execution_count": 5,
   "id": "e2114f0c",
   "metadata": {},
   "outputs": [
    {
     "data": {
      "text/plain": [
       "(2152832, 25)"
      ]
     },
     "execution_count": 5,
     "metadata": {},
     "output_type": "execute_result"
    }
   ],
   "source": [
    "#2013-2022有效数据(有label的数据)\n",
    "data_to_model = data_all.dropna()\n",
    "data_to_model.shape"
   ]
  },
  {
   "cell_type": "code",
   "execution_count": 6,
   "id": "f4a65d45",
   "metadata": {},
   "outputs": [
    {
     "name": "stdout",
     "output_type": "stream",
     "text": [
      "(1191764, 25)\n",
      "(821267, 25)\n",
      "(139801, 25)\n"
     ]
    }
   ],
   "source": [
    "train_all=data_to_model[data_to_model['Date']<='2019-09-01']\n",
    "test_all=data_to_model[data_to_model['Date']>='2020-01-01']\n",
    "val_all=data_to_model[(data_to_model['Date']>'2019-09-01') & (data_to_model['Date']<='2020-01-01')]\n",
    "print(train_all.shape)\n",
    "print(test_all.shape)\n",
    "print(val_all.shape)"
   ]
  },
  {
   "cell_type": "code",
   "execution_count": 7,
   "id": "6a3f8229",
   "metadata": {},
   "outputs": [
    {
     "data": {
      "text/html": [
       "<div>\n",
       "<style scoped>\n",
       "    .dataframe tbody tr th:only-of-type {\n",
       "        vertical-align: middle;\n",
       "    }\n",
       "\n",
       "    .dataframe tbody tr th {\n",
       "        vertical-align: top;\n",
       "    }\n",
       "\n",
       "    .dataframe thead th {\n",
       "        text-align: right;\n",
       "    }\n",
       "</style>\n",
       "<table border=\"1\" class=\"dataframe\">\n",
       "  <thead>\n",
       "    <tr style=\"text-align: right;\">\n",
       "      <th></th>\n",
       "      <th>Date</th>\n",
       "      <th>Ticker</th>\n",
       "      <th>0</th>\n",
       "      <th>0</th>\n",
       "      <th>0</th>\n",
       "      <th>0</th>\n",
       "      <th>0</th>\n",
       "      <th>0</th>\n",
       "      <th>0</th>\n",
       "      <th>0</th>\n",
       "      <th>...</th>\n",
       "      <th>0</th>\n",
       "      <th>0</th>\n",
       "      <th>0</th>\n",
       "      <th>0</th>\n",
       "      <th>0</th>\n",
       "      <th>0</th>\n",
       "      <th>0</th>\n",
       "      <th>close</th>\n",
       "      <th>return_5</th>\n",
       "      <th>label</th>\n",
       "    </tr>\n",
       "  </thead>\n",
       "  <tbody>\n",
       "    <tr>\n",
       "      <th>1</th>\n",
       "      <td>2013-01-04</td>\n",
       "      <td>000002.SZ</td>\n",
       "      <td>-0.965830</td>\n",
       "      <td>1.182998</td>\n",
       "      <td>0.947636</td>\n",
       "      <td>-0.002845</td>\n",
       "      <td>-0.665383</td>\n",
       "      <td>0.483191</td>\n",
       "      <td>0.220036</td>\n",
       "      <td>-0.515417</td>\n",
       "      <td>...</td>\n",
       "      <td>1.548047</td>\n",
       "      <td>0.318787</td>\n",
       "      <td>-0.101410</td>\n",
       "      <td>1.797035</td>\n",
       "      <td>-0.054150</td>\n",
       "      <td>-1.444809</td>\n",
       "      <td>-1.522456</td>\n",
       "      <td>1163.93</td>\n",
       "      <td>0.000</td>\n",
       "      <td>0.0</td>\n",
       "    </tr>\n",
       "    <tr>\n",
       "      <th>5</th>\n",
       "      <td>2013-01-04</td>\n",
       "      <td>000007.SZ</td>\n",
       "      <td>-1.512829</td>\n",
       "      <td>-1.164745</td>\n",
       "      <td>-2.465406</td>\n",
       "      <td>-0.773473</td>\n",
       "      <td>0.618476</td>\n",
       "      <td>-0.519624</td>\n",
       "      <td>-0.646017</td>\n",
       "      <td>-1.759949</td>\n",
       "      <td>...</td>\n",
       "      <td>-0.793496</td>\n",
       "      <td>0.693322</td>\n",
       "      <td>-1.355540</td>\n",
       "      <td>-0.539131</td>\n",
       "      <td>0.703258</td>\n",
       "      <td>0.677078</td>\n",
       "      <td>0.658477</td>\n",
       "      <td>78.84</td>\n",
       "      <td>0.132</td>\n",
       "      <td>1.0</td>\n",
       "    </tr>\n",
       "    <tr>\n",
       "      <th>7</th>\n",
       "      <td>2013-01-04</td>\n",
       "      <td>000011.SZ</td>\n",
       "      <td>-1.229412</td>\n",
       "      <td>-0.227101</td>\n",
       "      <td>-0.887079</td>\n",
       "      <td>1.254941</td>\n",
       "      <td>2.627087</td>\n",
       "      <td>0.576840</td>\n",
       "      <td>1.401817</td>\n",
       "      <td>-0.265266</td>\n",
       "      <td>...</td>\n",
       "      <td>-0.466465</td>\n",
       "      <td>-0.977753</td>\n",
       "      <td>-1.797352</td>\n",
       "      <td>1.464594</td>\n",
       "      <td>-2.017166</td>\n",
       "      <td>-1.630227</td>\n",
       "      <td>-0.968915</td>\n",
       "      <td>22.74</td>\n",
       "      <td>-0.051</td>\n",
       "      <td>-1.0</td>\n",
       "    </tr>\n",
       "    <tr>\n",
       "      <th>11</th>\n",
       "      <td>2013-01-04</td>\n",
       "      <td>000019.SZ</td>\n",
       "      <td>-0.764515</td>\n",
       "      <td>0.634445</td>\n",
       "      <td>0.430020</td>\n",
       "      <td>-0.088722</td>\n",
       "      <td>-0.565307</td>\n",
       "      <td>-0.105636</td>\n",
       "      <td>0.801835</td>\n",
       "      <td>0.028535</td>\n",
       "      <td>...</td>\n",
       "      <td>1.690449</td>\n",
       "      <td>-2.080887</td>\n",
       "      <td>-0.244009</td>\n",
       "      <td>2.730191</td>\n",
       "      <td>0.280410</td>\n",
       "      <td>-1.799952</td>\n",
       "      <td>-1.866064</td>\n",
       "      <td>16.69</td>\n",
       "      <td>0.000</td>\n",
       "      <td>0.0</td>\n",
       "    </tr>\n",
       "    <tr>\n",
       "      <th>15</th>\n",
       "      <td>2013-01-04</td>\n",
       "      <td>000024.SZ</td>\n",
       "      <td>-1.054044</td>\n",
       "      <td>0.408584</td>\n",
       "      <td>0.286493</td>\n",
       "      <td>1.106070</td>\n",
       "      <td>0.888920</td>\n",
       "      <td>0.236456</td>\n",
       "      <td>1.100890</td>\n",
       "      <td>0.937637</td>\n",
       "      <td>...</td>\n",
       "      <td>-0.317789</td>\n",
       "      <td>-0.462621</td>\n",
       "      <td>-1.426388</td>\n",
       "      <td>0.179909</td>\n",
       "      <td>-0.067518</td>\n",
       "      <td>-0.003551</td>\n",
       "      <td>-0.810374</td>\n",
       "      <td>159.67</td>\n",
       "      <td>-0.079</td>\n",
       "      <td>-1.0</td>\n",
       "    </tr>\n",
       "  </tbody>\n",
       "</table>\n",
       "<p>5 rows × 25 columns</p>\n",
       "</div>"
      ],
      "text/plain": [
       "         Date     Ticker         0         0         0         0         0  \\\n",
       "1  2013-01-04  000002.SZ -0.965830  1.182998  0.947636 -0.002845 -0.665383   \n",
       "5  2013-01-04  000007.SZ -1.512829 -1.164745 -2.465406 -0.773473  0.618476   \n",
       "7  2013-01-04  000011.SZ -1.229412 -0.227101 -0.887079  1.254941  2.627087   \n",
       "11 2013-01-04  000019.SZ -0.764515  0.634445  0.430020 -0.088722 -0.565307   \n",
       "15 2013-01-04  000024.SZ -1.054044  0.408584  0.286493  1.106070  0.888920   \n",
       "\n",
       "           0         0         0  ...         0         0         0         0  \\\n",
       "1   0.483191  0.220036 -0.515417  ...  1.548047  0.318787 -0.101410  1.797035   \n",
       "5  -0.519624 -0.646017 -1.759949  ... -0.793496  0.693322 -1.355540 -0.539131   \n",
       "7   0.576840  1.401817 -0.265266  ... -0.466465 -0.977753 -1.797352  1.464594   \n",
       "11 -0.105636  0.801835  0.028535  ...  1.690449 -2.080887 -0.244009  2.730191   \n",
       "15  0.236456  1.100890  0.937637  ... -0.317789 -0.462621 -1.426388  0.179909   \n",
       "\n",
       "           0         0         0    close  return_5  label  \n",
       "1  -0.054150 -1.444809 -1.522456  1163.93     0.000    0.0  \n",
       "5   0.703258  0.677078  0.658477    78.84     0.132    1.0  \n",
       "7  -2.017166 -1.630227 -0.968915    22.74    -0.051   -1.0  \n",
       "11  0.280410 -1.799952 -1.866064    16.69     0.000    0.0  \n",
       "15 -0.067518 -0.003551 -0.810374   159.67    -0.079   -1.0  \n",
       "\n",
       "[5 rows x 25 columns]"
      ]
     },
     "execution_count": 7,
     "metadata": {},
     "output_type": "execute_result"
    }
   ],
   "source": [
    "train_all.head()"
   ]
  },
  {
   "cell_type": "code",
   "execution_count": 8,
   "id": "a52ed051",
   "metadata": {},
   "outputs": [],
   "source": [
    "def transfer_signal(df):\n",
    "    Y = np.array(df['label'])\n",
    "    encoder = OneHotEncoder(categories='auto')\n",
    "    labels = Y.reshape(-1, 1)  # 将标签转换为二维数组\n",
    "    y = encoder.fit_transform(labels).toarray()\n",
    "    df=np.array(df[0])\n",
    "    num_samples = df.shape[0]-20+1\n",
    "    X_new = np.zeros((num_samples, 20, 20))\n",
    "    y_new = np.zeros((num_samples, y.shape[1]))\n",
    "    for i in range(num_samples):\n",
    "        X_new[i] = df[i:i+20]\n",
    "        y_new[i] = y[i+20-1] \n",
    "    return X_new,y_new"
   ]
  },
  {
   "cell_type": "code",
   "execution_count": 9,
   "id": "a7729da3",
   "metadata": {},
   "outputs": [
    {
     "name": "stdout",
     "output_type": "stream",
     "text": [
      "(1191745, 20, 20, 1) (1191745, 3) (139782, 20, 20, 1) (139782, 3) (821248, 20, 20, 1) (821248, 3)\n"
     ]
    }
   ],
   "source": [
    "X_train, y_train = transfer_signal(train_all)\n",
    "X_val, y_val = transfer_signal(val_all)\n",
    "X_test, y_test=transfer_signal(test_all)\n",
    "X_train = X_train.reshape(X_train.shape[0], 20, 20, 1)\n",
    "X_test = X_test.reshape(X_test.shape[0], 20, 20, 1)\n",
    "X_val = X_val.reshape(X_val.shape[0], 20, 20, 1)\n",
    "print(X_train.shape,y_train.shape,X_val.shape, y_val.shape,X_test.shape, y_test.shape)"
   ]
  },
  {
   "cell_type": "code",
   "execution_count": 249,
   "id": "a0ca0edf",
   "metadata": {},
   "outputs": [],
   "source": [
    "# 构建模型\n",
    "model = tf.keras.Sequential([\n",
    "    tf.keras.layers.Conv2D(32, (2, 2), strides=(1, 1), padding = 'same',activation='relu', input_shape=(20, 20, 1)),\n",
    "    tf.keras.layers.BatchNormalization(),\n",
    "    tf.keras.layers.MaxPooling2D((2, 2), strides=(2, 2)),\n",
    "    tf.keras.layers.Conv2D(32, (2, 2), strides=(1, 1),  padding = 'same', activation='relu'),\n",
    "    tf.keras.layers.BatchNormalization(),\n",
    "    tf.keras.layers.MaxPooling2D((2, 2), strides=(2, 2)),\n",
    "    tf.keras.layers.Flatten(),\n",
    "    tf.keras.layers.Dense(256),\n",
    "    tf.keras.layers.Dense(3, activation='softmax')\n",
    "])"
   ]
  },
  {
   "cell_type": "code",
   "execution_count": 12,
   "id": "9102a2b5",
   "metadata": {},
   "outputs": [
    {
     "name": "stdout",
     "output_type": "stream",
     "text": [
      "You must install pydot (`pip install pydot`) and install graphviz (see instructions at https://graphviz.gitlab.io/download/) for plot_model to work.\n"
     ]
    }
   ],
   "source": [
    "plot_model(model, to_file='cnn_model.png', show_shapes=True)"
   ]
  },
  {
   "cell_type": "code",
   "execution_count": 13,
   "id": "95a4a268",
   "metadata": {},
   "outputs": [
    {
     "name": "stdout",
     "output_type": "stream",
     "text": [
      "Model: \"sequential\"\n",
      "_________________________________________________________________\n",
      " Layer (type)                Output Shape              Param #   \n",
      "=================================================================\n",
      " conv2d (Conv2D)             (None, 20, 20, 32)        160       \n",
      "                                                                 \n",
      " batch_normalization (BatchN  (None, 20, 20, 32)       128       \n",
      " ormalization)                                                   \n",
      "                                                                 \n",
      " max_pooling2d (MaxPooling2D  (None, 10, 10, 32)       0         \n",
      " )                                                               \n",
      "                                                                 \n",
      " conv2d_1 (Conv2D)           (None, 10, 10, 32)        4128      \n",
      "                                                                 \n",
      " batch_normalization_1 (Batc  (None, 10, 10, 32)       128       \n",
      " hNormalization)                                                 \n",
      "                                                                 \n",
      " max_pooling2d_1 (MaxPooling  (None, 5, 5, 32)         0         \n",
      " 2D)                                                             \n",
      "                                                                 \n",
      " flatten (Flatten)           (None, 800)               0         \n",
      "                                                                 \n",
      " dense (Dense)               (None, 256)               205056    \n",
      "                                                                 \n",
      " dense_1 (Dense)             (None, 3)                 771       \n",
      "                                                                 \n",
      "=================================================================\n",
      "Total params: 210,371\n",
      "Trainable params: 210,243\n",
      "Non-trainable params: 128\n",
      "_________________________________________________________________\n"
     ]
    }
   ],
   "source": [
    "model.summary()"
   ]
  },
  {
   "cell_type": "code",
   "execution_count": 250,
   "id": "56ae48fe",
   "metadata": {},
   "outputs": [],
   "source": [
    "# 编译模型\n",
    "model.compile(loss='categorical_crossentropy', optimizer=Adam(learning_rate=0.0001), metrics=['accuracy'])\n",
    "early_stop = EarlyStopping(monitor='loss', patience=5)"
   ]
  },
  {
   "cell_type": "code",
   "execution_count": 251,
   "id": "50e4506b",
   "metadata": {},
   "outputs": [
    {
     "name": "stdout",
     "output_type": "stream",
     "text": [
      "Epoch 1/10\n",
      "37243/37243 - 561s - loss: 1.0590 - accuracy: 0.4399 - val_loss: 0.9988 - val_accuracy: 0.4786 - 561s/epoch - 15ms/step\n",
      "Epoch 2/10\n",
      "37243/37243 - 575s - loss: 1.0219 - accuracy: 0.4649 - val_loss: 0.9891 - val_accuracy: 0.4895 - 575s/epoch - 15ms/step\n",
      "Epoch 3/10\n",
      "37243/37243 - 574s - loss: 1.0170 - accuracy: 0.4706 - val_loss: 0.9871 - val_accuracy: 0.4920 - 574s/epoch - 15ms/step\n",
      "Epoch 4/10\n",
      "37243/37243 - 557s - loss: 1.0148 - accuracy: 0.4729 - val_loss: 0.9866 - val_accuracy: 0.4926 - 557s/epoch - 15ms/step\n",
      "Epoch 5/10\n",
      "37243/37243 - 553s - loss: 1.0132 - accuracy: 0.4749 - val_loss: 0.9827 - val_accuracy: 0.4953 - 553s/epoch - 15ms/step\n",
      "Epoch 6/10\n",
      "37243/37243 - 555s - loss: 1.0121 - accuracy: 0.4758 - val_loss: 0.9885 - val_accuracy: 0.4892 - 555s/epoch - 15ms/step\n",
      "Epoch 7/10\n",
      "37243/37243 - 555s - loss: 1.0112 - accuracy: 0.4767 - val_loss: 0.9839 - val_accuracy: 0.4930 - 555s/epoch - 15ms/step\n",
      "Epoch 8/10\n",
      "37243/37243 - 557s - loss: 1.0106 - accuracy: 0.4776 - val_loss: 0.9823 - val_accuracy: 0.4956 - 557s/epoch - 15ms/step\n",
      "Epoch 9/10\n",
      "37243/37243 - 551s - loss: 1.0099 - accuracy: 0.4778 - val_loss: 0.9853 - val_accuracy: 0.4914 - 551s/epoch - 15ms/step\n",
      "Epoch 10/10\n",
      "37243/37243 - 552s - loss: 1.0094 - accuracy: 0.4781 - val_loss: 0.9851 - val_accuracy: 0.4917 - 552s/epoch - 15ms/step\n"
     ]
    }
   ],
   "source": [
    "# 训练模型\n",
    "history = model.fit(X_train, y_train, epochs=10 , batch_size=32, validation_data=(X_val, y_val), verbose=2,shuffle = 'True',callbacks=[early_stop])"
   ]
  },
  {
   "cell_type": "code",
   "execution_count": 252,
   "id": "99474a7e",
   "metadata": {},
   "outputs": [
    {
     "name": "stdout",
     "output_type": "stream",
     "text": [
      "25664/25664 - 115s - loss: 1.0036 - accuracy: 0.4780 - 115s/epoch - 4ms/step\n",
      "Test accuracy: 0.47801029682159424\n",
      "Test loss: 1.0036402940750122\n"
     ]
    }
   ],
   "source": [
    "# 评估模型\n",
    "test_loss, test_acc = model.evaluate(X_test, y_test, verbose=2)\n",
    "print('Test accuracy:', test_acc)\n",
    "print('Test loss:', test_loss)"
   ]
  },
  {
   "cell_type": "code",
   "execution_count": 253,
   "id": "054709b4",
   "metadata": {},
   "outputs": [
    {
     "name": "stdout",
     "output_type": "stream",
     "text": [
      "25664/25664 [==============================] - 130s 5ms/step\n"
     ]
    }
   ],
   "source": [
    "#混淆矩阵验证\n",
    "y_pred = model.predict(X_test)\n",
    "y_pred_classes = np.argmax(y_pred,axis=1)\n",
    "y_test_clsses =  np.argmax(y_test,axis=1)\n",
    "confusion_mtx = confusion_matrix(y_true= y_test_clsses,y_pred = y_pred_classes)"
   ]
  },
  {
   "cell_type": "code",
   "execution_count": 254,
   "id": "c26ba5d1",
   "metadata": {},
   "outputs": [
    {
     "data": {
      "text/plain": [
       "Text(33.4375, 0.5, 'True Class')"
      ]
     },
     "execution_count": 254,
     "metadata": {},
     "output_type": "execute_result"
    },
    {
     "data": {
      "image/png": "[encoded data removed]",
      "text/plain": [
       "<Figure size 432x288 with 2 Axes>"
      ]
     },
     "metadata": {
      "needs_background": "light"
     },
     "output_type": "display_data"
    }
   ],
   "source": [
    "confusion_mtx_df=pd.DataFrame(confusion_mtx,index=['真实下跌', '真实平盘', '真实上涨'],columns=['预测下跌', '预测平盘', '预测上涨'])\n",
    "sns.heatmap(confusion_mtx_df,annot=True, fmt='d',cmap='Blues')\n",
    "plt.title('CNN Confusion Matrix')\n",
    "plt.xlabel('Predicted Class')\n",
    "plt.ylabel('True Class')"
   ]
  },
  {
   "cell_type": "code",
   "execution_count": 255,
   "id": "2ca39f90",
   "metadata": {},
   "outputs": [
    {
     "name": "stdout",
     "output_type": "stream",
     "text": [
      "              precision    recall  f1-score   support\n",
      "\n",
      "          下跌       0.48      0.56      0.52    274923\n",
      "          平盘       0.54      0.61      0.57    264848\n",
      "          上涨       0.39      0.28      0.32    281477\n",
      "\n",
      "    accuracy                           0.48    821248\n",
      "   macro avg       0.47      0.48      0.47    821248\n",
      "weighted avg       0.47      0.48      0.47    821248\n",
      "\n"
     ]
    }
   ],
   "source": [
    "print(classification_report(y_true= y_test_clsses,y_pred = y_pred_classes, target_names=['下跌', '平盘', '上涨']))"
   ]
  },
  {
   "cell_type": "code",
   "execution_count": 256,
   "id": "cbc64920",
   "metadata": {},
   "outputs": [
    {
     "data": {
      "image/png": "[encoded data removed]",
      "text/plain": [
       "<Figure size 432x288 with 1 Axes>"
      ]
     },
     "metadata": {
      "needs_background": "light"
     },
     "output_type": "display_data"
    }
   ],
   "source": [
    "plt.plot(history.history['val_accuracy'])\n",
    "plt.plot(history.history['accuracy'])\n",
    "plt.title('Model Accuracy')\n",
    "plt.ylabel('val_accuracy/train_accuracy')\n",
    "plt.xlabel('Epoch')\n",
    "plt.legend(['val_accuracy', 'train_accuracy'], loc='upper left')\n",
    "plt.show()"
   ]
  },
  {
   "cell_type": "code",
   "execution_count": 257,
   "id": "53aeef34",
   "metadata": {
    "scrolled": true
   },
   "outputs": [
    {
     "data": {
      "image/png": "[encoded data removed]",
      "text/plain": [
       "<Figure size 432x288 with 1 Axes>"
      ]
     },
     "metadata": {
      "needs_background": "light"
     },
     "output_type": "display_data"
    }
   ],
   "source": [
    "plt.plot(history.history['val_loss'])\n",
    "plt.plot(history.history['loss'])\n",
    "plt.title('Model Loss')\n",
    "plt.ylabel('val_loss/Loss')\n",
    "plt.xlabel('Epoch')\n",
    "plt.legend(['val_loss', 'Loss'], loc='upper left')\n",
    "plt.show()"
   ]
  },
  {
   "cell_type": "code",
   "execution_count": 258,
   "id": "5f29abd0",
   "metadata": {},
   "outputs": [],
   "source": [
    "#基于backtrader回测"
   ]
  },
  {
   "cell_type": "code",
   "execution_count": 259,
   "id": "51fb9a2b",
   "metadata": {},
   "outputs": [],
   "source": [
    "# 从mysql库里取涨停股数据 以及zz500指数数据\n",
    "wind_conn = WindSqlEngine('20200101', '20230101')\n",
    "uplimit_stocks = wind_conn.get_uplimit_stocks()\n",
    "zz500_index  = wind_conn.get_zhongzheng_index()\n",
    "uplimit_stocks['Date'] = pd.to_datetime(uplimit_stocks['Date'])\n",
    "zz500_index['Date'] = pd.to_datetime(zz500_index['Date'])"
   ]
  },
  {
   "cell_type": "code",
   "execution_count": 260,
   "id": "30f6a784",
   "metadata": {},
   "outputs": [],
   "source": [
    "uplimit_dict = uplimit_stocks.groupby('Date')['Ticker'].apply(list).to_dict()"
   ]
  },
  {
   "cell_type": "code",
   "execution_count": 261,
   "id": "c5821066",
   "metadata": {},
   "outputs": [
    {
     "data": {
      "text/plain": [
       "(821248, 3)"
      ]
     },
     "execution_count": 261,
     "metadata": {},
     "output_type": "execute_result"
    }
   ],
   "source": [
    "y_pred.shape"
   ]
  },
  {
   "cell_type": "code",
   "execution_count": 262,
   "id": "57672d0a",
   "metadata": {},
   "outputs": [],
   "source": [
    "price_data = data_all.loc[data_all['Date']>='2020-01-01',['Date','Ticker','close']]\n",
    "price_data = pd.merge(price_data, uplimit_stocks, on=['Date', 'Ticker'], how='outer', indicator=True)\n",
    "price_data = price_data[price_data['_merge'] == 'left_only'].drop(columns='_merge')"
   ]
  },
  {
   "cell_type": "code",
   "execution_count": 263,
   "id": "bdf16865",
   "metadata": {},
   "outputs": [],
   "source": [
    "backtrade_df = test_all.iloc[:y_pred.shape[0],:]\n",
    "backtrade_df.reset_index(inplace = True,drop = True)"
   ]
  },
  {
   "cell_type": "code",
   "execution_count": 264,
   "id": "be89f19e",
   "metadata": {},
   "outputs": [],
   "source": [
    "max_up_prob=1-y_pred[:,0]\n",
    "max_up_prob=pd.DataFrame(max_up_prob,columns = ['prob'])"
   ]
  },
  {
   "cell_type": "code",
   "execution_count": 265,
   "id": "9b7c3ee9",
   "metadata": {},
   "outputs": [],
   "source": [
    "result = pd.concat([backtrade_df[[ 'Date',  'Ticker',  'return_5']],max_up_prob],axis=1,ignore_index = True)\n",
    "result.columns = [ 'Date',  'Ticker', 'return_5','prob']\n",
    "result = pd.merge(price_data,result,how = 'left',on = [ 'Date',  'Ticker'])\n",
    "result['return'] = result.groupby('Ticker')['close'].pct_change()"
   ]
  },
  {
   "cell_type": "code",
   "execution_count": 267,
   "id": "ee14b24a",
   "metadata": {},
   "outputs": [],
   "source": [
    "zz500_index['return'] = zz500_index.groupby('Ticker')['close'].pct_change()\n",
    "zz500_index['cum_return'] = (1 + zz500_index['return']).cumprod()"
   ]
  },
  {
   "cell_type": "code",
   "execution_count": 268,
   "id": "328c4336",
   "metadata": {},
   "outputs": [
    {
     "data": {
      "text/plain": [
       "(2908759, 6)"
      ]
     },
     "execution_count": 268,
     "metadata": {},
     "output_type": "execute_result"
    }
   ],
   "source": [
    "result.shape"
   ]
  },
  {
   "cell_type": "code",
   "execution_count": 269,
   "id": "92539daa",
   "metadata": {},
   "outputs": [],
   "source": [
    "def calculate_metrics(portfolio_returns, benchmark_returns, risk_free_rate=0.0, periods_per_year=252):\n",
    "    # Calculate total return\n",
    "    total_return = (portfolio_returns + 1).prod() - 1\n",
    "    \n",
    "    # Calculate benchmark total return\n",
    "    benchmark_total_return = (benchmark_returns + 1).prod() - 1\n",
    "    \n",
    "    \n",
    "    # Calculate annualized returns\n",
    "    annualized_return = (1 + total_return) ** (periods_per_year / len(portfolio_returns)) - 1\n",
    "    annualized_benchmark_return = (1 + benchmark_total_return) ** (periods_per_year / len(benchmark_returns)) - 1\n",
    "    \n",
    "    # Calculate volatility\n",
    "    volatility = np.std(portfolio_returns)\n",
    "    benchmark_volatility = np.std(benchmark_returns)\n",
    "    \n",
    "    # Calculate annualized volatility\n",
    "    annualized_volatility = volatility * np.sqrt(periods_per_year)\n",
    "    annualized_benchmark_volatility = benchmark_volatility * np.sqrt(periods_per_year)\n",
    "    # Calculate beta\n",
    "    covariance_matrix = np.cov(portfolio_returns, benchmark_returns)\n",
    "\n",
    "    beta = covariance_matrix[0][1] / covariance_matrix[1][1]\n",
    "    # Calculate alpha\n",
    "    alpha = annualized_return - (risk_free_rate + beta * (annualized_benchmark_return - risk_free_rate))\n",
    "    \n",
    "    # Calculate Sharpe ratio\n",
    "    sharpe_ratio = (annualized_return - risk_free_rate) / annualized_volatility\n",
    "    \n",
    "    # Calculate Sortino ratio\n",
    "    downside_returns = portfolio_returns[portfolio_returns < 0]\n",
    "    downside_deviation = np.std(downside_returns)\n",
    "    sortino_ratio = (annualized_return - risk_free_rate) / downside_deviation * np.sqrt(periods_per_year)\n",
    "    \n",
    "    # Calculate win rate\n",
    "    win_rate = (portfolio_returns > 0).mean()\n",
    "    \n",
    "    # Calculate max drawdown\n",
    "    cum_returns = (portfolio_returns + 1).cumprod()\n",
    "    max_drawdown = (cum_returns.cummax() - cum_returns).max()\n",
    "    \n",
    "    # Format output as dictionary\n",
    "    metrics = {\n",
    "        'Total return': total_return,\n",
    "        'Benchmark total return': benchmark_total_return,\n",
    "        'Annualized return': annualized_return,\n",
    "        'Annualized benchmark return': annualized_benchmark_return,\n",
    "        'Annualized volatility': annualized_volatility,\n",
    "        'Annualized benchmark volatility': annualized_benchmark_volatility,\n",
    "        'Sharpe ratio': sharpe_ratio,\n",
    "        'Sortino ratio': sortino_ratio,\n",
    "        'Win rate': win_rate,\n",
    "        'Max drawdown': max_drawdown,\n",
    "        'alpha':alpha,\n",
    "        'Beta':beta\n",
    "    }\n",
    "    \n",
    "    return metrics\n"
   ]
  },
  {
   "cell_type": "code",
   "execution_count": 288,
   "id": "39699d8e",
   "metadata": {},
   "outputs": [],
   "source": [
    "def backtest(data,initial_capital=1000000, transaction_cost=0.0012):\n",
    "    \n",
    "    # 计算每个交易日选出的前10只股票\n",
    "    data=data[~data['Ticker'].str.startswith(('688', '300'))]\n",
    "    dates=list(data['Date'].unique())\n",
    "    dates_predict = dates[::5]\n",
    "    data['prob'] = data['prob'].fillna(0)\n",
    "    # 根据前一天的数据取最大概率前10的股票\n",
    "#     data_shifted = data.groupby('Date').shift(1)\n",
    "#     print(data,data_shifted)\n",
    "    df_buy = data.groupby('Date').apply(lambda x:x.nlargest(10, 'prob')).reset_index(drop=True)\n",
    "    print(df_buy)\n",
    "    df_buy = df_buy[~df_buy['prob'].isna()]\n",
    "#   df_predict 每天选出的前n只股票\n",
    "#   holdings 每天持仓股情况\n",
    "    holdings = pd.DataFrame(index =list(data['Date'].unique()),columns = range(10),data = np.nan)\n",
    "\n",
    "    for dt in dates_predict:\n",
    "        tickers = list(df_buy[df_buy['Date']==dt]['Ticker'])\n",
    "        holdings.loc[dt,:] = tickers\n",
    "    holdings=holdings.fillna(method='ffill')\n",
    "    holdings.to_csv(f'C://Users//LYQ//Desktop//parquet_data//cnn_holdings.csv')\n",
    "    df_all= pd.DataFrame(index = holdings.index)\n",
    "    for dt in tqdm(holdings.index):\n",
    "        if dt==holdings.index[0]:\n",
    "            df_all['capital'] = initial_capital\n",
    "        else:\n",
    "            today_ticker = list(holdings.loc[dt,:])\n",
    "            if dt in dates_predict:\n",
    "                df_all.loc[dt,'daily_return'] = data.loc[(data['Date'] == dt) & (data['Ticker'].isin(today_ticker)), 'return'].mean()-transaction_cost\n",
    "            else:\n",
    "                df_all.loc[dt,'daily_return'] = data.loc[(data['Date'] == dt) & (data['Ticker'].isin(today_ticker)), 'return'].mean()\n",
    "            df_all.loc[dt,'capital']= df_all['capital'].shift(1)[dt] *(1+df_all.loc[dt,'daily_return'])\n",
    "    df_all['cum_return'] = (1 + df_all['daily_return']).cumprod()\n",
    "    return df_all"
   ]
  },
  {
   "cell_type": "code",
   "execution_count": 289,
   "id": "93fb8849",
   "metadata": {
    "collapsed": true
   },
   "outputs": [
    {
     "name": "stdout",
     "output_type": "stream",
     "text": [
      "              Date     Ticker    close  return_5  prob    return\n",
      "0       2020-01-02  000001.SZ  1841.69       NaN   0.0       NaN\n",
      "1       2020-01-02  000002.SZ  4832.29       NaN   0.0       NaN\n",
      "2       2020-01-02  000004.SZ    90.75       NaN   0.0       NaN\n",
      "3       2020-01-02  000005.SZ    29.10       NaN   0.0       NaN\n",
      "4       2020-01-02  000006.SZ   191.30       NaN   0.0       NaN\n",
      "...            ...        ...      ...       ...   ...       ...\n",
      "2908285 2022-12-30  605580.SH    12.55       NaN   0.0  0.017018\n",
      "2908286 2022-12-30  605588.SH    28.92       NaN   0.0  0.005913\n",
      "2908287 2022-12-30  605589.SH    21.75       NaN   0.0 -0.014946\n",
      "2908288 2022-12-30  605598.SH    24.96       NaN   0.0 -0.009917\n",
      "2908289 2022-12-30  605599.SH    10.50       NaN   0.0  0.022395\n",
      "\n",
      "[2088349 rows x 6 columns]             Ticker    close  return_5  prob    return\n",
      "0              NaN      NaN       NaN   NaN       NaN\n",
      "1        000001.SZ  1841.69       NaN   0.0       NaN\n",
      "2        000002.SZ  4832.29       NaN   0.0       NaN\n",
      "3        000004.SZ    90.75       NaN   0.0       NaN\n",
      "4        000005.SZ    29.10       NaN   0.0       NaN\n",
      "...            ...      ...       ...   ...       ...\n",
      "2908285  605577.SH    10.03       NaN   0.0  0.025562\n",
      "2908286  605580.SH    12.55       NaN   0.0  0.017018\n",
      "2908287  605588.SH    28.92       NaN   0.0  0.005913\n",
      "2908288  605589.SH    21.75       NaN   0.0 -0.014946\n",
      "2908289  605598.SH    24.96       NaN   0.0 -0.009917\n",
      "\n",
      "[2088349 rows x 5 columns]\n",
      "           Date     Ticker   close  return_5      prob    return\n",
      "0    2020-01-02  002495.SZ   28.34     0.020  0.966714       NaN\n",
      "1    2020-01-02  000638.SZ   22.19     0.020  0.963938       NaN\n",
      "2    2020-01-02  002374.SZ   19.56     0.017  0.954817       NaN\n",
      "3    2020-01-02  000759.SZ   51.45    -0.024  0.953309       NaN\n",
      "4    2020-01-02  002262.SZ   98.41     0.015  0.947689       NaN\n",
      "...         ...        ...     ...       ...       ...       ...\n",
      "7275 2022-12-30  000009.SZ  107.70       NaN  0.000000  0.009183\n",
      "7276 2022-12-30  000010.SZ   40.40       NaN  0.000000  0.035897\n",
      "7277 2022-12-30  000011.SZ   47.32       NaN  0.000000  0.010463\n",
      "7278 2022-12-30  000012.SZ  186.39       NaN  0.000000  0.007459\n",
      "7279 2022-12-30  000014.SZ   66.73       NaN  0.000000  0.004970\n",
      "\n",
      "[7280 rows x 6 columns]\n"
     ]
    },
    {
     "name": "stderr",
     "output_type": "stream",
     "text": [
      "100%|███████████████████████████████████████████████████████████████████████████████████████████████████████████████████████████████████████████████████| 728/728 [01:04<00:00, 11.32it/s]"
     ]
    },
    {
     "name": "stdout",
     "output_type": "stream",
     "text": [
      "                 capital  daily_return  cum_return\n",
      "2020-01-02  1.000000e+06           NaN         NaN\n",
      "2020-01-03  1.004721e+06      0.004721    1.004721\n",
      "2020-01-06  9.998814e+05     -0.004816    0.999881\n",
      "2020-01-07  1.011439e+06      0.011559    1.011439\n",
      "2020-01-08  1.010647e+06     -0.000782    1.010647\n",
      "...                  ...           ...         ...\n",
      "2022-12-26  2.047007e+06     -0.002033    2.047007\n",
      "2022-12-27  2.081777e+06      0.016986    2.081777\n",
      "2022-12-28  2.100757e+06      0.009117    2.100757\n",
      "2022-12-29  2.037196e+06     -0.030256    2.037196\n",
      "2022-12-30  2.060088e+06      0.011237    2.060088\n",
      "\n",
      "[728 rows x 3 columns]\n"
     ]
    },
    {
     "name": "stderr",
     "output_type": "stream",
     "text": [
      "\n"
     ]
    }
   ],
   "source": [
    "df_profit = backtest(result,initial_capital=1000000, transaction_cost=0.0012)\n",
    "print(df_profit)"
   ]
  },
  {
   "cell_type": "code",
   "execution_count": 296,
   "id": "16dda0b9",
   "metadata": {},
   "outputs": [],
   "source": [
    "df_profit.to_csv(f'C://Users//LYQ//Desktop//single_factor_report//cnn_return.csv')"
   ]
  },
  {
   "cell_type": "code",
   "execution_count": 294,
   "id": "7b253bea",
   "metadata": {},
   "outputs": [
    {
     "data": {
      "text/plain": [
       "3463"
      ]
     },
     "execution_count": 294,
     "metadata": {},
     "output_type": "execute_result"
    }
   ],
   "source": [
    "len(result[result['Date']=='2020-01-02'])"
   ]
  },
  {
   "cell_type": "code",
   "execution_count": 297,
   "id": "54128c79",
   "metadata": {},
   "outputs": [
    {
     "name": "stdout",
     "output_type": "stream",
     "text": [
      "                                        CNN\n",
      "Total return                       1.060088\n",
      "Benchmark total return             0.092866\n",
      "Annualized return                  0.284259\n",
      "Annualized benchmark return        0.031217\n",
      "Annualized volatility              0.273838\n",
      "Annualized benchmark volatility    0.213914\n",
      "Sharpe ratio                       1.038055\n",
      "Sortino ratio                    368.575931\n",
      "Win rate                           0.539835\n",
      "Max drawdown                       0.563081\n",
      "alpha                              0.255828\n",
      "Beta                               0.910781\n"
     ]
    }
   ],
   "source": [
    "performance_metrics = calculate_metrics(df_profit['daily_return'].fillna(0), zz500_index['return'].fillna(0))\n",
    "a = pd.DataFrame(performance_metrics,index=['CNN'],columns =['Total return','Benchmark total return','Annualized return','Annualized benchmark return','Annualized volatility','Annualized benchmark volatility','Sharpe ratio', 'Sortino ratio', 'Win rate','Max drawdown','alpha','Beta']).T\n",
    "a.to_csv(f'C://Users//LYQ//Desktop//single_factor_report//cnn_metrics.csv')\n",
    "print(a)"
   ]
  },
  {
   "cell_type": "code",
   "execution_count": 278,
   "id": "de64a120",
   "metadata": {},
   "outputs": [
    {
     "data": {
      "text/plain": [
       "<matplotlib.legend.Legend at 0x1cc3778b160>"
      ]
     },
     "execution_count": 278,
     "metadata": {},
     "output_type": "execute_result"
    },
    {
     "data": {
      "image/png": "[encoded data removed]",
      "text/plain": [
       "<Figure size 864x432 with 1 Axes>"
      ]
     },
     "metadata": {
      "needs_background": "light"
     },
     "output_type": "display_data"
    }
   ],
   "source": [
    "plt.figure(figsize=(12, 6))\n",
    "plt.plot(zz500_index['Date'], zz500_index['cum_return'], color='r', label='benchmark')\n",
    "plt.plot(df_profit.index, df_profit['cum_return'], color='cornflowerblue', label='cum_return')\n",
    "plt.axhline(1, ls='--')\n",
    "plt.title('回测收益曲线图')\n",
    "plt.xlabel('时间（单位：天）')\n",
    "plt.ylabel('收益')\n",
    "plt.legend()"
   ]
  },
  {
   "cell_type": "code",
   "execution_count": null,
   "id": "b6bac1cd",
   "metadata": {},
   "outputs": [],
   "source": []
  }
 ],
 "metadata": {
  "kernelspec": {
   "display_name": "Python 3 (ipykernel)",
   "language": "python",
   "name": "python3"
  },
  "language_info": {
   "codemirror_mode": {
    "name": "ipython",
    "version": 3
   },
   "file_extension": ".py",
   "mimetype": "text/x-python",
   "name": "python",
   "nbconvert_exporter": "python",
   "pygments_lexer": "ipython3",
   "version": "3.9.1"
  }
 },
 "nbformat": 4,
 "nbformat_minor": 5
}
