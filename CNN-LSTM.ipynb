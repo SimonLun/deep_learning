{
 "cells": [
  {
   "cell_type": "code",
   "execution_count": 1,
   "id": "eeaef374",
   "metadata": {},
   "outputs": [],
   "source": [
    "import numpy as np\n",
    "import pandas as pd\n",
    "import tensorflow as tf\n",
    "from sklearn.model_selection import train_test_split\n",
    "from tensorflow.keras.models import Sequential\n",
    "from tensorflow.keras.layers import Dense, Dropout, Flatten, Conv2D, MaxPooling2D\n",
    "from tensorflow.keras.optimizers import Adam\n",
    "import tensorflow.keras.optimizers as optimizers\n",
    "from sklearn.preprocessing import OneHotEncoder\n",
    "from deep_learning_models.get_dataset import get_feature_from_npy\n",
    "from construct_factor_database.wind_db_result import WindSqlEngine\n",
    "import matplotlib.pyplot as plt\n",
    "from tensorflow.keras.callbacks import EarlyStopping\n",
    "from tensorflow.keras import regularizers\n",
    "from sklearn.metrics import confusion_matrix, precision_score, recall_score, f1_score,roc_curve, auc,classification_report\n",
    "from scipy import stats\n",
    "from keras.utils import plot_model\n",
    "import seaborn as sns\n",
    "from tqdm import tqdm\n",
    "plt.rcParams['font.sans-serif'] = ['SimHei']"
   ]
  },
  {
   "cell_type": "code",
   "execution_count": 2,
   "id": "9899a445",
   "metadata": {},
   "outputs": [
    {
     "name": "stderr",
     "output_type": "stream",
     "text": [
      "100%|█████████████████████████████████████████████████████████████████████████████████████████████████████████████████████████████████████████████████| 2430/2430 [02:56<00:00, 13.75it/s]\n"
     ]
    }
   ],
   "source": [
    "# 获取数据集\n",
    "data_all = get_feature_from_npy()"
   ]
  },
  {
   "cell_type": "code",
   "execution_count": 3,
   "id": "57dae8cd",
   "metadata": {},
   "outputs": [
    {
     "data": {
      "text/plain": [
       "(7870932, 25)"
      ]
     },
     "execution_count": 3,
     "metadata": {},
     "output_type": "execute_result"
    }
   ],
   "source": [
    "#十年因子数据\n",
    "data_all.shape"
   ]
  },
  {
   "cell_type": "code",
   "execution_count": 4,
   "id": "e2114f0c",
   "metadata": {},
   "outputs": [
    {
     "data": {
      "text/plain": [
       "(2152832, 25)"
      ]
     },
     "execution_count": 4,
     "metadata": {},
     "output_type": "execute_result"
    }
   ],
   "source": [
    "#2013-2022有效数据(有label的数据)\n",
    "data_to_model = data_all.dropna()\n",
    "data_to_model.shape"
   ]
  },
  {
   "cell_type": "code",
   "execution_count": 5,
   "id": "f4a65d45",
   "metadata": {},
   "outputs": [
    {
     "name": "stdout",
     "output_type": "stream",
     "text": [
      "(1191764, 25)\n",
      "(821267, 25)\n",
      "(78649, 25)\n"
     ]
    }
   ],
   "source": [
    "train_all=data_to_model[data_to_model['Date']<='2019-09-01']\n",
    "test_all=data_to_model[data_to_model['Date']>='2020-01-01']\n",
    "val_all=data_to_model[(data_to_model['Date']>'2019-09-01') & (data_to_model['Date']<='2020-01-01')]\n",
    "print(train_all.shape)\n",
    "print(test_all.shape)\n",
    "print(val_all.shape)"
   ]
  },
  {
   "cell_type": "code",
   "execution_count": 6,
   "id": "6a3f8229",
   "metadata": {},
   "outputs": [
    {
     "data": {
      "text/html": [
       "<div>\n",
       "<style scoped>\n",
       "    .dataframe tbody tr th:only-of-type {\n",
       "        vertical-align: middle;\n",
       "    }\n",
       "\n",
       "    .dataframe tbody tr th {\n",
       "        vertical-align: top;\n",
       "    }\n",
       "\n",
       "    .dataframe thead th {\n",
       "        text-align: right;\n",
       "    }\n",
       "</style>\n",
       "<table border=\"1\" class=\"dataframe\">\n",
       "  <thead>\n",
       "    <tr style=\"text-align: right;\">\n",
       "      <th></th>\n",
       "      <th>Date</th>\n",
       "      <th>Ticker</th>\n",
       "      <th>0</th>\n",
       "      <th>0</th>\n",
       "      <th>0</th>\n",
       "      <th>0</th>\n",
       "      <th>0</th>\n",
       "      <th>0</th>\n",
       "      <th>0</th>\n",
       "      <th>0</th>\n",
       "      <th>...</th>\n",
       "      <th>0</th>\n",
       "      <th>0</th>\n",
       "      <th>0</th>\n",
       "      <th>0</th>\n",
       "      <th>0</th>\n",
       "      <th>0</th>\n",
       "      <th>0</th>\n",
       "      <th>close</th>\n",
       "      <th>return_5</th>\n",
       "      <th>label</th>\n",
       "    </tr>\n",
       "  </thead>\n",
       "  <tbody>\n",
       "    <tr>\n",
       "      <th>1</th>\n",
       "      <td>2013-01-04</td>\n",
       "      <td>000002.SZ</td>\n",
       "      <td>-0.965830</td>\n",
       "      <td>1.182998</td>\n",
       "      <td>0.947636</td>\n",
       "      <td>-0.002845</td>\n",
       "      <td>-0.665383</td>\n",
       "      <td>0.483191</td>\n",
       "      <td>0.220036</td>\n",
       "      <td>-0.515417</td>\n",
       "      <td>...</td>\n",
       "      <td>1.548047</td>\n",
       "      <td>0.318787</td>\n",
       "      <td>-0.101410</td>\n",
       "      <td>1.797035</td>\n",
       "      <td>-0.054150</td>\n",
       "      <td>-1.444809</td>\n",
       "      <td>-1.522456</td>\n",
       "      <td>1163.93</td>\n",
       "      <td>0.000</td>\n",
       "      <td>0.0</td>\n",
       "    </tr>\n",
       "    <tr>\n",
       "      <th>5</th>\n",
       "      <td>2013-01-04</td>\n",
       "      <td>000007.SZ</td>\n",
       "      <td>-1.512829</td>\n",
       "      <td>-1.164745</td>\n",
       "      <td>-2.465406</td>\n",
       "      <td>-0.773473</td>\n",
       "      <td>0.618476</td>\n",
       "      <td>-0.519624</td>\n",
       "      <td>-0.646017</td>\n",
       "      <td>-1.759949</td>\n",
       "      <td>...</td>\n",
       "      <td>-0.793496</td>\n",
       "      <td>0.693322</td>\n",
       "      <td>-1.355540</td>\n",
       "      <td>-0.539131</td>\n",
       "      <td>0.703258</td>\n",
       "      <td>0.677078</td>\n",
       "      <td>0.658477</td>\n",
       "      <td>78.84</td>\n",
       "      <td>0.132</td>\n",
       "      <td>1.0</td>\n",
       "    </tr>\n",
       "    <tr>\n",
       "      <th>7</th>\n",
       "      <td>2013-01-04</td>\n",
       "      <td>000011.SZ</td>\n",
       "      <td>-1.229412</td>\n",
       "      <td>-0.227101</td>\n",
       "      <td>-0.887079</td>\n",
       "      <td>1.254941</td>\n",
       "      <td>2.627087</td>\n",
       "      <td>0.576840</td>\n",
       "      <td>1.401817</td>\n",
       "      <td>-0.265266</td>\n",
       "      <td>...</td>\n",
       "      <td>-0.466465</td>\n",
       "      <td>-0.977753</td>\n",
       "      <td>-1.797352</td>\n",
       "      <td>1.464594</td>\n",
       "      <td>-2.017166</td>\n",
       "      <td>-1.630227</td>\n",
       "      <td>-0.968915</td>\n",
       "      <td>22.74</td>\n",
       "      <td>-0.051</td>\n",
       "      <td>-1.0</td>\n",
       "    </tr>\n",
       "    <tr>\n",
       "      <th>11</th>\n",
       "      <td>2013-01-04</td>\n",
       "      <td>000019.SZ</td>\n",
       "      <td>-0.764515</td>\n",
       "      <td>0.634445</td>\n",
       "      <td>0.430020</td>\n",
       "      <td>-0.088722</td>\n",
       "      <td>-0.565307</td>\n",
       "      <td>-0.105636</td>\n",
       "      <td>0.801835</td>\n",
       "      <td>0.028535</td>\n",
       "      <td>...</td>\n",
       "      <td>1.690449</td>\n",
       "      <td>-2.080887</td>\n",
       "      <td>-0.244009</td>\n",
       "      <td>2.730191</td>\n",
       "      <td>0.280410</td>\n",
       "      <td>-1.799952</td>\n",
       "      <td>-1.866064</td>\n",
       "      <td>16.69</td>\n",
       "      <td>0.000</td>\n",
       "      <td>0.0</td>\n",
       "    </tr>\n",
       "    <tr>\n",
       "      <th>15</th>\n",
       "      <td>2013-01-04</td>\n",
       "      <td>000024.SZ</td>\n",
       "      <td>-1.054044</td>\n",
       "      <td>0.408584</td>\n",
       "      <td>0.286493</td>\n",
       "      <td>1.106070</td>\n",
       "      <td>0.888920</td>\n",
       "      <td>0.236456</td>\n",
       "      <td>1.100890</td>\n",
       "      <td>0.937637</td>\n",
       "      <td>...</td>\n",
       "      <td>-0.317789</td>\n",
       "      <td>-0.462621</td>\n",
       "      <td>-1.426388</td>\n",
       "      <td>0.179909</td>\n",
       "      <td>-0.067518</td>\n",
       "      <td>-0.003551</td>\n",
       "      <td>-0.810374</td>\n",
       "      <td>159.67</td>\n",
       "      <td>-0.079</td>\n",
       "      <td>-1.0</td>\n",
       "    </tr>\n",
       "  </tbody>\n",
       "</table>\n",
       "<p>5 rows × 25 columns</p>\n",
       "</div>"
      ],
      "text/plain": [
       "         Date     Ticker         0         0         0         0         0  \\\n",
       "1  2013-01-04  000002.SZ -0.965830  1.182998  0.947636 -0.002845 -0.665383   \n",
       "5  2013-01-04  000007.SZ -1.512829 -1.164745 -2.465406 -0.773473  0.618476   \n",
       "7  2013-01-04  000011.SZ -1.229412 -0.227101 -0.887079  1.254941  2.627087   \n",
       "11 2013-01-04  000019.SZ -0.764515  0.634445  0.430020 -0.088722 -0.565307   \n",
       "15 2013-01-04  000024.SZ -1.054044  0.408584  0.286493  1.106070  0.888920   \n",
       "\n",
       "           0         0         0  ...         0         0         0         0  \\\n",
       "1   0.483191  0.220036 -0.515417  ...  1.548047  0.318787 -0.101410  1.797035   \n",
       "5  -0.519624 -0.646017 -1.759949  ... -0.793496  0.693322 -1.355540 -0.539131   \n",
       "7   0.576840  1.401817 -0.265266  ... -0.466465 -0.977753 -1.797352  1.464594   \n",
       "11 -0.105636  0.801835  0.028535  ...  1.690449 -2.080887 -0.244009  2.730191   \n",
       "15  0.236456  1.100890  0.937637  ... -0.317789 -0.462621 -1.426388  0.179909   \n",
       "\n",
       "           0         0         0    close  return_5  label  \n",
       "1  -0.054150 -1.444809 -1.522456  1163.93     0.000    0.0  \n",
       "5   0.703258  0.677078  0.658477    78.84     0.132    1.0  \n",
       "7  -2.017166 -1.630227 -0.968915    22.74    -0.051   -1.0  \n",
       "11  0.280410 -1.799952 -1.866064    16.69     0.000    0.0  \n",
       "15 -0.067518 -0.003551 -0.810374   159.67    -0.079   -1.0  \n",
       "\n",
       "[5 rows x 25 columns]"
      ]
     },
     "execution_count": 6,
     "metadata": {},
     "output_type": "execute_result"
    }
   ],
   "source": [
    "train_all.head()"
   ]
  },
  {
   "cell_type": "code",
   "execution_count": 7,
   "id": "a52ed051",
   "metadata": {},
   "outputs": [],
   "source": [
    "def transfer_signal(df):\n",
    "    Y = np.array(df['label'])\n",
    "    encoder = OneHotEncoder(categories='auto')\n",
    "    labels = Y.reshape(-1, 1)  # 将标签转换为二维数组\n",
    "    y = encoder.fit_transform(labels).toarray()\n",
    "    df=np.array(df[0])\n",
    "    num_samples = df.shape[0]-20+1\n",
    "    X_new = np.zeros((num_samples, 20, 20))\n",
    "    y_new = np.zeros((num_samples, y.shape[1]))\n",
    "    for i in range(num_samples):\n",
    "        X_new[i] = df[i:i+20]\n",
    "        y_new[i] = y[i+20-1] \n",
    "    return X_new,y_new"
   ]
  },
  {
   "cell_type": "code",
   "execution_count": 8,
   "id": "a7729da3",
   "metadata": {},
   "outputs": [
    {
     "name": "stdout",
     "output_type": "stream",
     "text": [
      "(1191745, 20, 20, 1) (1191745, 3) (78630, 20, 20, 1) (78630, 3) (821248, 20, 20, 1) (821248, 3)\n"
     ]
    }
   ],
   "source": [
    "X_train, y_train = transfer_signal(train_all)\n",
    "X_val, y_val = transfer_signal(val_all)\n",
    "X_test, y_test=transfer_signal(test_all)\n",
    "X_train = X_train.reshape(X_train.shape[0], 20, 20, 1)\n",
    "X_test = X_test.reshape(X_test.shape[0], 20, 20, 1)\n",
    "X_val = X_val.reshape(X_val.shape[0], 20, 20, 1)\n",
    "print(X_train.shape,y_train.shape,X_val.shape, y_val.shape,X_test.shape, y_test.shape)"
   ]
  },
  {
   "cell_type": "code",
   "execution_count": 9,
   "id": "a0ca0edf",
   "metadata": {},
   "outputs": [],
   "source": [
    "model = tf.keras.Sequential([\n",
    "    tf.keras.layers.Conv2D(64, kernel_size=(2, 2), activation='relu', padding='same', input_shape=(20,20,1)),\n",
    "    tf.keras.layers.MaxPooling2D(pool_size=(2, 2), strides=(2, 2),padding='same'),\n",
    "    tf.keras.layers.Dropout(0.5),\n",
    "    tf.keras.layers.Conv2D(32, kernel_size=(2, 2), activation='relu', padding='same'),\n",
    "    tf.keras.layers.MaxPooling2D(pool_size=(1, 4), strides=(1, 4), padding='same'),\n",
    "    tf.keras.layers.Dropout(0.5),\n",
    "    tf.keras.layers.Conv2D(32, kernel_size=(2, 2), activation='relu', padding='same'),\n",
    "    tf.keras.layers.MaxPooling2D(pool_size=(1, 2), strides=(1, 3), padding='same'),\n",
    "\n",
    "    tf.keras.layers.Reshape((10, 32)),\n",
    "    tf.keras.layers.LSTM(16, return_sequences=True),\n",
    "    tf.keras.layers.Dropout(0.5),\n",
    "    tf.keras.layers.LSTM(16,return_sequences=True),\n",
    "    tf.keras.layers.Dropout(0.5),\n",
    "    tf.keras.layers.LSTM(16),\n",
    "    tf.keras.layers.Dense(3, activation='softmax')\n",
    "])"
   ]
  },
  {
   "cell_type": "code",
   "execution_count": null,
   "id": "a9d1ca76",
   "metadata": {},
   "outputs": [],
   "source": []
  },
  {
   "cell_type": "code",
   "execution_count": 10,
   "id": "9102a2b5",
   "metadata": {},
   "outputs": [
    {
     "name": "stdout",
     "output_type": "stream",
     "text": [
      "You must install pydot (`pip install pydot`) and install graphviz (see instructions at https://graphviz.gitlab.io/download/) for plot_model to work.\n"
     ]
    }
   ],
   "source": [
    "plot_model(model, to_file='cnn_model.png', show_shapes=True)"
   ]
  },
  {
   "cell_type": "code",
   "execution_count": 11,
   "id": "95a4a268",
   "metadata": {},
   "outputs": [
    {
     "name": "stdout",
     "output_type": "stream",
     "text": [
      "Model: \"sequential\"\n",
      "_________________________________________________________________\n",
      " Layer (type)                Output Shape              Param #   \n",
      "=================================================================\n",
      " conv2d (Conv2D)             (None, 20, 20, 64)        320       \n",
      "                                                                 \n",
      " max_pooling2d (MaxPooling2D  (None, 10, 10, 64)       0         \n",
      " )                                                               \n",
      "                                                                 \n",
      " dropout (Dropout)           (None, 10, 10, 64)        0         \n",
      "                                                                 \n",
      " conv2d_1 (Conv2D)           (None, 10, 10, 32)        8224      \n",
      "                                                                 \n",
      " max_pooling2d_1 (MaxPooling  (None, 10, 3, 32)        0         \n",
      " 2D)                                                             \n",
      "                                                                 \n",
      " dropout_1 (Dropout)         (None, 10, 3, 32)         0         \n",
      "                                                                 \n",
      " conv2d_2 (Conv2D)           (None, 10, 3, 32)         4128      \n",
      "                                                                 \n",
      " max_pooling2d_2 (MaxPooling  (None, 10, 1, 32)        0         \n",
      " 2D)                                                             \n",
      "                                                                 \n",
      " reshape (Reshape)           (None, 10, 32)            0         \n",
      "                                                                 \n",
      " lstm (LSTM)                 (None, 10, 16)            3136      \n",
      "                                                                 \n",
      " dropout_2 (Dropout)         (None, 10, 16)            0         \n",
      "                                                                 \n",
      " lstm_1 (LSTM)               (None, 10, 16)            2112      \n",
      "                                                                 \n",
      " dropout_3 (Dropout)         (None, 10, 16)            0         \n",
      "                                                                 \n",
      " lstm_2 (LSTM)               (None, 16)                2112      \n",
      "                                                                 \n",
      " dense (Dense)               (None, 3)                 51        \n",
      "                                                                 \n",
      "=================================================================\n",
      "Total params: 20,083\n",
      "Trainable params: 20,083\n",
      "Non-trainable params: 0\n",
      "_________________________________________________________________\n"
     ]
    }
   ],
   "source": [
    "model.summary()"
   ]
  },
  {
   "cell_type": "code",
   "execution_count": 12,
   "id": "56ae48fe",
   "metadata": {},
   "outputs": [],
   "source": [
    "# 编译模型\n",
    "model.compile(loss='categorical_crossentropy', optimizer=Adam(learning_rate=0.0001), metrics=['accuracy'])\n",
    "early_stop = EarlyStopping(monitor='loss', patience=5)"
   ]
  },
  {
   "cell_type": "code",
   "execution_count": 13,
   "id": "50e4506b",
   "metadata": {},
   "outputs": [
    {
     "name": "stdout",
     "output_type": "stream",
     "text": [
      "Epoch 1/10\n",
      "37243/37243 - 1013s - loss: 1.0755 - accuracy: 0.3973 - val_loss: 1.0223 - val_accuracy: 0.4723 - 1013s/epoch - 27ms/step\n",
      "Epoch 2/10\n",
      "37243/37243 - 973s - loss: 1.0532 - accuracy: 0.4336 - val_loss: 1.0129 - val_accuracy: 0.4818 - 973s/epoch - 26ms/step\n",
      "Epoch 3/10\n",
      "37243/37243 - 959s - loss: 1.0479 - accuracy: 0.4391 - val_loss: 1.0098 - val_accuracy: 0.4825 - 959s/epoch - 26ms/step\n",
      "Epoch 4/10\n",
      "37243/37243 - 942s - loss: 1.0448 - accuracy: 0.4422 - val_loss: 1.0031 - val_accuracy: 0.4880 - 942s/epoch - 25ms/step\n",
      "Epoch 5/10\n",
      "37243/37243 - 927s - loss: 1.0428 - accuracy: 0.4443 - val_loss: 0.9996 - val_accuracy: 0.4892 - 927s/epoch - 25ms/step\n",
      "Epoch 6/10\n",
      "37243/37243 - 921s - loss: 1.0410 - accuracy: 0.4464 - val_loss: 0.9984 - val_accuracy: 0.4892 - 921s/epoch - 25ms/step\n",
      "Epoch 7/10\n",
      "37243/37243 - 919s - loss: 1.0402 - accuracy: 0.4469 - val_loss: 0.9954 - val_accuracy: 0.4917 - 919s/epoch - 25ms/step\n",
      "Epoch 8/10\n",
      "37243/37243 - 924s - loss: 1.0391 - accuracy: 0.4486 - val_loss: 0.9970 - val_accuracy: 0.4912 - 924s/epoch - 25ms/step\n",
      "Epoch 9/10\n",
      "37243/37243 - 923s - loss: 1.0380 - accuracy: 0.4487 - val_loss: 0.9961 - val_accuracy: 0.4905 - 923s/epoch - 25ms/step\n",
      "Epoch 10/10\n",
      "37243/37243 - 915s - loss: 1.0377 - accuracy: 0.4492 - val_loss: 0.9966 - val_accuracy: 0.4914 - 915s/epoch - 25ms/step\n"
     ]
    }
   ],
   "source": [
    "# 训练模型\n",
    "history = model.fit(X_train, y_train, epochs=10 , batch_size=32, validation_data=(X_val, y_val), verbose=2,shuffle = 'True',callbacks=[early_stop])"
   ]
  },
  {
   "cell_type": "code",
   "execution_count": 14,
   "id": "99474a7e",
   "metadata": {},
   "outputs": [
    {
     "name": "stdout",
     "output_type": "stream",
     "text": [
      "25664/25664 - 135s - loss: 1.0203 - accuracy: 0.4681 - 135s/epoch - 5ms/step\n",
      "Test accuracy: 0.4680900275707245\n",
      "Test loss: 1.020250678062439\n"
     ]
    }
   ],
   "source": [
    "# 评估模型\n",
    "test_loss, test_acc = model.evaluate(X_test, y_test, verbose=2)\n",
    "print('Test accuracy:', test_acc)\n",
    "print('Test loss:', test_loss)"
   ]
  },
  {
   "cell_type": "code",
   "execution_count": 15,
   "id": "054709b4",
   "metadata": {},
   "outputs": [
    {
     "name": "stdout",
     "output_type": "stream",
     "text": [
      "25664/25664 [==============================] - 164s 6ms/step\n"
     ]
    }
   ],
   "source": [
    "#混淆矩阵验证\n",
    "y_pred = model.predict(X_test)\n",
    "y_pred_classes = np.argmax(y_pred,axis=1)\n",
    "y_test_clsses =  np.argmax(y_test,axis=1)\n",
    "confusion_mtx = confusion_matrix(y_true= y_test_clsses,y_pred = y_pred_classes)"
   ]
  },
  {
   "cell_type": "code",
   "execution_count": 36,
   "id": "c26ba5d1",
   "metadata": {},
   "outputs": [
    {
     "data": {
      "text/plain": [
       "Text(33.4375, 0.5, 'True Class')"
      ]
     },
     "execution_count": 36,
     "metadata": {},
     "output_type": "execute_result"
    },
    {
     "data": {
      "image/png": "[encoded data removed]",
      "text/plain": [
       "<Figure size 432x288 with 2 Axes>"
      ]
     },
     "metadata": {
      "needs_background": "light"
     },
     "output_type": "display_data"
    }
   ],
   "source": [
    "confusion_mtx_df=pd.DataFrame(confusion_mtx,index=['真实下跌', '真实平盘', '真实上涨'],columns=['预测下跌', '预测平盘', '预测上涨'])\n",
    "sns.heatmap(confusion_mtx_df,annot=True, fmt='d',cmap='Blues')\n",
    "plt.title('CNN-LSTM Confusion Matrix')\n",
    "plt.xlabel('Predicted Class')\n",
    "plt.ylabel('True Class')"
   ]
  },
  {
   "cell_type": "code",
   "execution_count": 17,
   "id": "2ca39f90",
   "metadata": {},
   "outputs": [
    {
     "name": "stdout",
     "output_type": "stream",
     "text": [
      "              precision    recall  f1-score   support\n",
      "\n",
      "          下跌       0.49      0.59      0.53    274923\n",
      "          平盘       0.49      0.65      0.56    264848\n",
      "          上涨       0.37      0.18      0.24    281477\n",
      "\n",
      "    accuracy                           0.47    821248\n",
      "   macro avg       0.45      0.47      0.44    821248\n",
      "weighted avg       0.45      0.47      0.44    821248\n",
      "\n"
     ]
    }
   ],
   "source": [
    "print(classification_report(y_true= y_test_clsses,y_pred = y_pred_classes, target_names=['下跌', '平盘', '上涨']))"
   ]
  },
  {
   "cell_type": "code",
   "execution_count": 18,
   "id": "cbc64920",
   "metadata": {},
   "outputs": [
    {
     "data": {
      "image/png": "[encoded data removed]",
      "text/plain": [
       "<Figure size 432x288 with 1 Axes>"
      ]
     },
     "metadata": {
      "needs_background": "light"
     },
     "output_type": "display_data"
    }
   ],
   "source": [
    "plt.plot(history.history['val_accuracy'])\n",
    "plt.plot(history.history['accuracy'])\n",
    "plt.title('Model Accuracy')\n",
    "plt.ylabel('val_accuracy/train_accuracy')\n",
    "plt.xlabel('Epoch')\n",
    "plt.legend(['val_accuracy', 'train_accuracy'], loc='upper left')\n",
    "plt.show()"
   ]
  },
  {
   "cell_type": "code",
   "execution_count": 19,
   "id": "53aeef34",
   "metadata": {
    "scrolled": true
   },
   "outputs": [
    {
     "data": {
      "image/png": "[encoded data removed]",
      "text/plain": [
       "<Figure size 432x288 with 1 Axes>"
      ]
     },
     "metadata": {
      "needs_background": "light"
     },
     "output_type": "display_data"
    }
   ],
   "source": [
    "plt.plot(history.history['val_loss'])\n",
    "plt.plot(history.history['loss'])\n",
    "plt.title('Model Loss')\n",
    "plt.ylabel('val_loss/train_loss')\n",
    "plt.xlabel('Epoch')\n",
    "plt.legend(['val_loss', 'train_loss'], loc='upper left')\n",
    "plt.show()"
   ]
  },
  {
   "cell_type": "code",
   "execution_count": 20,
   "id": "5f29abd0",
   "metadata": {},
   "outputs": [],
   "source": [
    "#基于backtrader回测"
   ]
  },
  {
   "cell_type": "code",
   "execution_count": 21,
   "id": "51fb9a2b",
   "metadata": {},
   "outputs": [],
   "source": [
    "# 从mysql库里取涨停股数据 以及zz500指数数据\n",
    "wind_conn = WindSqlEngine('20200101', '20230101')\n",
    "uplimit_stocks = wind_conn.get_uplimit_stocks()\n",
    "zz500_index  = wind_conn.get_zhongzheng_index()\n",
    "uplimit_stocks['Date'] = pd.to_datetime(uplimit_stocks['Date'])\n",
    "zz500_index['Date'] = pd.to_datetime(zz500_index['Date'])"
   ]
  },
  {
   "cell_type": "code",
   "execution_count": 22,
   "id": "30f6a784",
   "metadata": {},
   "outputs": [],
   "source": [
    "uplimit_dict = uplimit_stocks.groupby('Date')['Ticker'].apply(list).to_dict()"
   ]
  },
  {
   "cell_type": "code",
   "execution_count": 23,
   "id": "c5821066",
   "metadata": {},
   "outputs": [
    {
     "data": {
      "text/plain": [
       "(821248, 3)"
      ]
     },
     "execution_count": 23,
     "metadata": {},
     "output_type": "execute_result"
    }
   ],
   "source": [
    "y_pred.shape"
   ]
  },
  {
   "cell_type": "code",
   "execution_count": 24,
   "id": "93fc7a45",
   "metadata": {},
   "outputs": [],
   "source": [
    "price_data = data_all.loc[data_all['Date']>='2020-01-01',['Date','Ticker','close']]\n",
    "price_data = pd.merge(price_data, uplimit_stocks, on=['Date', 'Ticker'], how='outer', indicator=True)\n",
    "price_data = price_data[price_data['_merge'] == 'left_only'].drop(columns='_merge')"
   ]
  },
  {
   "cell_type": "code",
   "execution_count": 25,
   "id": "bdf16865",
   "metadata": {},
   "outputs": [],
   "source": [
    "backtrade_df = test_all.iloc[:y_pred.shape[0],:]\n",
    "backtrade_df.reset_index(inplace = True,drop = True)"
   ]
  },
  {
   "cell_type": "code",
   "execution_count": 26,
   "id": "be89f19e",
   "metadata": {},
   "outputs": [],
   "source": [
    "max_up_prob=1-y_pred[:,0]\n",
    "max_up_prob=pd.DataFrame(max_up_prob,columns = ['prob'])"
   ]
  },
  {
   "cell_type": "code",
   "execution_count": 27,
   "id": "9b7c3ee9",
   "metadata": {},
   "outputs": [],
   "source": [
    "result = pd.concat([backtrade_df[[ 'Date',  'Ticker',  'return_5']],max_up_prob],axis=1,ignore_index = True)\n",
    "result.columns = [ 'Date',  'Ticker', 'return_5','prob']\n",
    "result = pd.merge(price_data,result,how = 'left',on = [ 'Date',  'Ticker'])\n",
    "result['return'] = result.groupby('Ticker')['close'].pct_change()"
   ]
  },
  {
   "cell_type": "code",
   "execution_count": 28,
   "id": "ee14b24a",
   "metadata": {},
   "outputs": [],
   "source": [
    "zz500_index['return'] = zz500_index.groupby('Ticker')['close'].pct_change()\n",
    "zz500_index['cum_return'] = (1 + zz500_index['return']).cumprod()"
   ]
  },
  {
   "cell_type": "code",
   "execution_count": 29,
   "id": "328c4336",
   "metadata": {},
   "outputs": [
    {
     "data": {
      "text/plain": [
       "(2908759, 6)"
      ]
     },
     "execution_count": 29,
     "metadata": {},
     "output_type": "execute_result"
    }
   ],
   "source": [
    "result.shape"
   ]
  },
  {
   "cell_type": "code",
   "execution_count": 30,
   "id": "92539daa",
   "metadata": {},
   "outputs": [],
   "source": [
    "def calculate_metrics(portfolio_returns, benchmark_returns, risk_free_rate=0.0, periods_per_year=252):\n",
    "    # Calculate total return\n",
    "    total_return = (portfolio_returns + 1).prod() - 1\n",
    "    \n",
    "    # Calculate benchmark total return\n",
    "    benchmark_total_return = (benchmark_returns + 1).prod() - 1\n",
    "    \n",
    "    \n",
    "    # Calculate annualized returns\n",
    "    annualized_return = (1 + total_return) ** (periods_per_year / len(portfolio_returns)) - 1\n",
    "    annualized_benchmark_return = (1 + benchmark_total_return) ** (periods_per_year / len(benchmark_returns)) - 1\n",
    "    \n",
    "    # Calculate volatility\n",
    "    volatility = np.std(portfolio_returns)\n",
    "    benchmark_volatility = np.std(benchmark_returns)\n",
    "    \n",
    "    # Calculate annualized volatility\n",
    "    annualized_volatility = volatility * np.sqrt(periods_per_year)\n",
    "    annualized_benchmark_volatility = benchmark_volatility * np.sqrt(periods_per_year)\n",
    "    # Calculate beta\n",
    "    covariance_matrix = np.cov(portfolio_returns, benchmark_returns)\n",
    "\n",
    "    beta = covariance_matrix[0][1] / covariance_matrix[1][1]\n",
    "    # Calculate alpha\n",
    "    alpha = annualized_return - (risk_free_rate + beta * (annualized_benchmark_return - risk_free_rate))\n",
    "    \n",
    "    # Calculate Sharpe ratio\n",
    "    sharpe_ratio = (annualized_return - risk_free_rate) / annualized_volatility\n",
    "    \n",
    "    # Calculate Sortino ratio\n",
    "    downside_returns = portfolio_returns[portfolio_returns < 0]\n",
    "    downside_deviation = np.std(downside_returns)\n",
    "    sortino_ratio = (annualized_return - risk_free_rate) / downside_deviation * np.sqrt(periods_per_year)\n",
    "    \n",
    "    # Calculate win rate\n",
    "    win_rate = (portfolio_returns > 0).mean()\n",
    "    \n",
    "    # Calculate max drawdown\n",
    "    cum_returns = (portfolio_returns + 1).cumprod()\n",
    "    max_drawdown = (cum_returns.cummax() - cum_returns).max()\n",
    "    \n",
    "    # Format output as dictionary\n",
    "    metrics = {\n",
    "        'Total return': total_return,\n",
    "        'Benchmark total return': benchmark_total_return,\n",
    "        'Annualized return': annualized_return,\n",
    "        'Annualized benchmark return': annualized_benchmark_return,\n",
    "        'Annualized volatility': annualized_volatility,\n",
    "        'Annualized benchmark volatility': annualized_benchmark_volatility,\n",
    "        'Sharpe ratio': sharpe_ratio,\n",
    "        'Sortino ratio': sortino_ratio,\n",
    "        'Win rate': win_rate,\n",
    "        'Max drawdown': max_drawdown,\n",
    "        'alpha':alpha,\n",
    "        'Beta':beta\n",
    "    }\n",
    "    \n",
    "    return metrics\n"
   ]
  },
  {
   "cell_type": "code",
   "execution_count": 31,
   "id": "39699d8e",
   "metadata": {},
   "outputs": [],
   "source": [
    "def backtest(data,initial_capital=1000000, transaction_cost=0.0012):\n",
    "    \n",
    "    # 计算每个交易日选出的前10只股票\n",
    "    data=data[~data['Ticker'].str.startswith(('688', '300'))]\n",
    "    dates=list(data['Date'].unique())\n",
    "    dates_predict = dates[::5]\n",
    "    data['prob'] = data['prob'].fillna(0)\n",
    "    # 根据前一天的数据取最大概率前10的股票\n",
    "    df_buy = data.groupby('Date').apply(lambda x:x.shift(1).nlargest(10, 'prob')).reset_index(drop=True)\n",
    "    df_buy = df_buy[~df_buy['prob'].isna()]\n",
    "#   df_predict 每天选出的前n只股票\n",
    "#   holdings 每天持仓股情况\n",
    "    holdings = pd.DataFrame(index =list(data['Date'].unique()),columns = range(10),data = np.nan)\n",
    "\n",
    "    for dt in dates_predict:\n",
    "        tickers = list(df_buy[df_buy['Date']==dt]['Ticker'])\n",
    "        holdings.loc[dt,:] = tickers\n",
    "    holdings=holdings.fillna(method='ffill')\n",
    "    holdings.to_csv(f'C://Users//LYQ//Desktop//parquet_data//cnn-lstm_holdings.csv')\n",
    "    df_all= pd.DataFrame(index = holdings.index)\n",
    "    for dt in tqdm(holdings.index):\n",
    "        if dt==holdings.index[0]:\n",
    "            df_all['capital'] = initial_capital\n",
    "        else:\n",
    "            today_ticker = list(holdings.loc[dt,:])\n",
    "            if dt in dates_predict:\n",
    "                df_all.loc[dt,'daily_return'] = data.loc[(data['Date'] == dt) & (data['Ticker'].isin(today_ticker)), 'return'].mean()-transaction_cost\n",
    "            else:\n",
    "                df_all.loc[dt,'daily_return'] = data.loc[(data['Date'] == dt) & (data['Ticker'].isin(today_ticker)), 'return'].mean()\n",
    "            df_all.loc[dt,'capital']= df_all['capital'].shift(1)[dt] *(1+df_all.loc[dt,'daily_return'])\n",
    "    df_all['cum_return'] = (1 + df_all['daily_return']).cumprod()\n",
    "    return df_all"
   ]
  },
  {
   "cell_type": "code",
   "execution_count": 32,
   "id": "93fb8849",
   "metadata": {},
   "outputs": [
    {
     "name": "stderr",
     "output_type": "stream",
     "text": [
      "100%|███████████████████████████████████████████████████████████████████████████████████████████████████████████████████████████████████████████████████| 728/728 [01:04<00:00, 11.35it/s]"
     ]
    },
    {
     "name": "stdout",
     "output_type": "stream",
     "text": [
      "                 capital  daily_return  cum_return\n",
      "2020-01-02  1.000000e+06           NaN         NaN\n",
      "2020-01-03  9.959958e+05     -0.004004    0.995996\n",
      "2020-01-06  1.000775e+06      0.004798    1.000775\n",
      "2020-01-07  1.009769e+06      0.008987    1.009769\n",
      "2020-01-08  1.009020e+06     -0.000741    1.009020\n",
      "...                  ...           ...         ...\n",
      "2022-12-26  3.331817e+06     -0.000849    3.331817\n",
      "2022-12-27  3.328433e+06     -0.001016    3.328433\n",
      "2022-12-28  3.358779e+06      0.009117    3.358779\n",
      "2022-12-29  3.257154e+06     -0.030256    3.257154\n",
      "2022-12-30  3.293755e+06      0.011237    3.293755\n",
      "\n",
      "[728 rows x 3 columns]\n"
     ]
    },
    {
     "name": "stderr",
     "output_type": "stream",
     "text": [
      "\n"
     ]
    }
   ],
   "source": [
    "df_profit = backtest(result,initial_capital=1000000, transaction_cost=0.0012)\n",
    "print(df_profit)"
   ]
  },
  {
   "cell_type": "code",
   "execution_count": 81,
   "id": "54128c79",
   "metadata": {},
   "outputs": [],
   "source": [
    "performance_metrics = calculate_metrics(df_profit['daily_return'].fillna(0), zz500_index['return'].fillna(0))\n",
    "a = pd.DataFrame(performance_metrics,index=['CNN-LSTM'],columns =['Total return','Benchmark total return','Annualized return','Annualized benchmark return','Annualized volatility','Annualized benchmark volatility','Sharpe ratio', 'Sortino ratio', 'Win rate','Max drawdown','alpha','Beta']).T\n",
    "a.to_csv(f'C://Users//LYQ//Desktop//single_factor_report//cnn_lstm_metrics.csv')"
   ]
  },
  {
   "cell_type": "code",
   "execution_count": 84,
   "id": "68020cb6",
   "metadata": {},
   "outputs": [],
   "source": [
    "performance_metrics_benchmark = calculate_metrics(zz500_index['return'].fillna(0), zz500_index['return'].fillna(0))\n",
    "b = pd.DataFrame(performance_metrics_benchmark,index=['benchmark'],columns =['Total return','Benchmark total return','Annualized return','Annualized benchmark return','Annualized volatility','Annualized benchmark volatility','Sharpe ratio', 'Sortino ratio', 'Win rate','Max drawdown','alpha','Beta']).T\n",
    "b.to_csv(f'C://Users//LYQ//Desktop//single_factor_report//benchmark_metrics.csv')"
   ]
  },
  {
   "cell_type": "code",
   "execution_count": 41,
   "id": "8468ccb9",
   "metadata": {},
   "outputs": [],
   "source": [
    "cnn_return= pd.read_csv(f'C://Users//LYQ//Desktop//single_factor_report//cnn_return.csv')\n",
    "lstm_return = pd.read_csv(f'C://Users//LYQ//Desktop//single_factor_report//lstm_return.csv')\n",
    "cnn_return =cnn_return['cum_return']\n",
    "lstm_return =lstm_return['cum_return']"
   ]
  },
  {
   "cell_type": "code",
   "execution_count": null,
   "id": "b25ec6af",
   "metadata": {},
   "outputs": [],
   "source": [
    "df_profit.reset_index(inplace = True)"
   ]
  },
  {
   "cell_type": "code",
   "execution_count": 55,
   "id": "c396e5aa",
   "metadata": {},
   "outputs": [],
   "source": [
    "return_all = pd.concat([df_profit,cnn_return,lstm_return],axis=1,ignore_index = True)"
   ]
  },
  {
   "cell_type": "code",
   "execution_count": 58,
   "id": "860278f9",
   "metadata": {},
   "outputs": [],
   "source": [
    "return_all.columns = ['Date','capital', 'daily_return','cnn-lstm','cnn','lstm']"
   ]
  },
  {
   "cell_type": "code",
   "execution_count": 60,
   "id": "fb8bee3d",
   "metadata": {},
   "outputs": [
    {
     "data": {
      "text/html": [
       "<div>\n",
       "<style scoped>\n",
       "    .dataframe tbody tr th:only-of-type {\n",
       "        vertical-align: middle;\n",
       "    }\n",
       "\n",
       "    .dataframe tbody tr th {\n",
       "        vertical-align: top;\n",
       "    }\n",
       "\n",
       "    .dataframe thead th {\n",
       "        text-align: right;\n",
       "    }\n",
       "</style>\n",
       "<table border=\"1\" class=\"dataframe\">\n",
       "  <thead>\n",
       "    <tr style=\"text-align: right;\">\n",
       "      <th></th>\n",
       "      <th>Date</th>\n",
       "      <th>capital</th>\n",
       "      <th>daily_return</th>\n",
       "      <th>cnn-lstm</th>\n",
       "      <th>cnn</th>\n",
       "      <th>lstm</th>\n",
       "    </tr>\n",
       "  </thead>\n",
       "  <tbody>\n",
       "    <tr>\n",
       "      <th>0</th>\n",
       "      <td>2020-01-02</td>\n",
       "      <td>1.000000e+06</td>\n",
       "      <td>NaN</td>\n",
       "      <td>NaN</td>\n",
       "      <td>NaN</td>\n",
       "      <td>NaN</td>\n",
       "    </tr>\n",
       "    <tr>\n",
       "      <th>1</th>\n",
       "      <td>2020-01-03</td>\n",
       "      <td>9.959958e+05</td>\n",
       "      <td>-0.004004</td>\n",
       "      <td>0.995996</td>\n",
       "      <td>1.004721</td>\n",
       "      <td>0.996192</td>\n",
       "    </tr>\n",
       "    <tr>\n",
       "      <th>2</th>\n",
       "      <td>2020-01-06</td>\n",
       "      <td>1.000775e+06</td>\n",
       "      <td>0.004798</td>\n",
       "      <td>1.000775</td>\n",
       "      <td>0.999881</td>\n",
       "      <td>0.995291</td>\n",
       "    </tr>\n",
       "    <tr>\n",
       "      <th>3</th>\n",
       "      <td>2020-01-07</td>\n",
       "      <td>1.009769e+06</td>\n",
       "      <td>0.008987</td>\n",
       "      <td>1.009769</td>\n",
       "      <td>1.011439</td>\n",
       "      <td>1.002773</td>\n",
       "    </tr>\n",
       "    <tr>\n",
       "      <th>4</th>\n",
       "      <td>2020-01-08</td>\n",
       "      <td>1.009020e+06</td>\n",
       "      <td>-0.000741</td>\n",
       "      <td>1.009020</td>\n",
       "      <td>1.010647</td>\n",
       "      <td>0.980781</td>\n",
       "    </tr>\n",
       "    <tr>\n",
       "      <th>...</th>\n",
       "      <td>...</td>\n",
       "      <td>...</td>\n",
       "      <td>...</td>\n",
       "      <td>...</td>\n",
       "      <td>...</td>\n",
       "      <td>...</td>\n",
       "    </tr>\n",
       "    <tr>\n",
       "      <th>723</th>\n",
       "      <td>2022-12-26</td>\n",
       "      <td>3.331817e+06</td>\n",
       "      <td>-0.000849</td>\n",
       "      <td>3.331817</td>\n",
       "      <td>2.047007</td>\n",
       "      <td>2.618783</td>\n",
       "    </tr>\n",
       "    <tr>\n",
       "      <th>724</th>\n",
       "      <td>2022-12-27</td>\n",
       "      <td>3.328433e+06</td>\n",
       "      <td>-0.001016</td>\n",
       "      <td>3.328433</td>\n",
       "      <td>2.081777</td>\n",
       "      <td>2.645376</td>\n",
       "    </tr>\n",
       "    <tr>\n",
       "      <th>725</th>\n",
       "      <td>2022-12-28</td>\n",
       "      <td>3.358779e+06</td>\n",
       "      <td>0.009117</td>\n",
       "      <td>3.358779</td>\n",
       "      <td>2.100757</td>\n",
       "      <td>2.669495</td>\n",
       "    </tr>\n",
       "    <tr>\n",
       "      <th>726</th>\n",
       "      <td>2022-12-29</td>\n",
       "      <td>3.257154e+06</td>\n",
       "      <td>-0.030256</td>\n",
       "      <td>3.257154</td>\n",
       "      <td>2.037196</td>\n",
       "      <td>2.588726</td>\n",
       "    </tr>\n",
       "    <tr>\n",
       "      <th>727</th>\n",
       "      <td>2022-12-30</td>\n",
       "      <td>3.293755e+06</td>\n",
       "      <td>0.011237</td>\n",
       "      <td>3.293755</td>\n",
       "      <td>2.060088</td>\n",
       "      <td>2.617815</td>\n",
       "    </tr>\n",
       "  </tbody>\n",
       "</table>\n",
       "<p>728 rows × 6 columns</p>\n",
       "</div>"
      ],
      "text/plain": [
       "          Date       capital  daily_return  cnn-lstm       cnn      lstm\n",
       "0   2020-01-02  1.000000e+06           NaN       NaN       NaN       NaN\n",
       "1   2020-01-03  9.959958e+05     -0.004004  0.995996  1.004721  0.996192\n",
       "2   2020-01-06  1.000775e+06      0.004798  1.000775  0.999881  0.995291\n",
       "3   2020-01-07  1.009769e+06      0.008987  1.009769  1.011439  1.002773\n",
       "4   2020-01-08  1.009020e+06     -0.000741  1.009020  1.010647  0.980781\n",
       "..         ...           ...           ...       ...       ...       ...\n",
       "723 2022-12-26  3.331817e+06     -0.000849  3.331817  2.047007  2.618783\n",
       "724 2022-12-27  3.328433e+06     -0.001016  3.328433  2.081777  2.645376\n",
       "725 2022-12-28  3.358779e+06      0.009117  3.358779  2.100757  2.669495\n",
       "726 2022-12-29  3.257154e+06     -0.030256  3.257154  2.037196  2.588726\n",
       "727 2022-12-30  3.293755e+06      0.011237  3.293755  2.060088  2.617815\n",
       "\n",
       "[728 rows x 6 columns]"
      ]
     },
     "execution_count": 60,
     "metadata": {},
     "output_type": "execute_result"
    }
   ],
   "source": [
    "return_all"
   ]
  },
  {
   "cell_type": "code",
   "execution_count": 49,
   "id": "e0fa4ec3",
   "metadata": {},
   "outputs": [],
   "source": [
    "df_profit.reset_index(inplace = True)"
   ]
  },
  {
   "cell_type": "code",
   "execution_count": null,
   "id": "fc4c4030",
   "metadata": {},
   "outputs": [],
   "source": [
    "#8ECFC9\n",
    "#FFBE7A\n",
    "#FA7F6F\n",
    "#82B0D2\n",
    "#BEB8DC\n",
    "#E7DAD2"
   ]
  },
  {
   "cell_type": "code",
   "execution_count": 85,
   "id": "de64a120",
   "metadata": {},
   "outputs": [
    {
     "data": {
      "text/plain": [
       "<matplotlib.legend.Legend at 0x18ccfb1eb20>"
      ]
     },
     "execution_count": 85,
     "metadata": {},
     "output_type": "execute_result"
    },
    {
     "data": {
      "image/png": "[encoded data removed]",
      "text/plain": [
       "<Figure size 864x432 with 1 Axes>"
      ]
     },
     "metadata": {
      "needs_background": "light"
     },
     "output_type": "display_data"
    }
   ],
   "source": [
    "plt.figure(figsize=(12, 6))\n",
    "# （0,44,83）-（255,165,16）-（12,132,198）-（255,189,102）-（247,77,77）-（36,85,164）-（65,183,172）\n",
    "plt.plot(zz500_index['Date'], zz500_index['cum_return'], color='#FA7F6F', label='benchmark')\n",
    "plt.plot(return_all['Date'], return_all['cnn-lstm'], color='#8ECFC9', label='CNN-LSTM')\n",
    "plt.plot(return_all['Date'], return_all['cnn'], color='#FFBE7A', label='CNN')\n",
    "plt.plot(return_all['Date'], return_all['lstm'], color='#82B0D2', label='LSTM')\n",
    "\n",
    "plt.axvline(x=['2020-01-01'], ls='--',color='cornflowerblue')\n",
    "plt.axvline(x=['2021-09-14'], ls='--',color='cornflowerblue')\n",
    "plt.axvline(x=['2022-04-27'], ls='--',color='cornflowerblue')\n",
    "\n",
    "\n",
    "plt.title('回测净值曲线图')\n",
    "plt.xlabel('时间（单位：天）')\n",
    "plt.ylabel('净值')\n",
    "plt.legend(loc='upper left')"
   ]
  },
  {
   "cell_type": "code",
   "execution_count": null,
   "id": "b6bac1cd",
   "metadata": {},
   "outputs": [],
   "source": []
  }
 ],
 "metadata": {
  "kernelspec": {
   "display_name": "Python 3 (ipykernel)",
   "language": "python",
   "name": "python3"
  },
  "language_info": {
   "codemirror_mode": {
    "name": "ipython",
    "version": 3
   },
   "file_extension": ".py",
   "mimetype": "text/x-python",
   "name": "python",
   "nbconvert_exporter": "python",
   "pygments_lexer": "ipython3",
   "version": "3.9.1"
  }
 },
 "nbformat": 4,
 "nbformat_minor": 5
}
